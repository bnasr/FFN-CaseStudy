{
  "nbformat": 4,
  "nbformat_minor": 0,
  "metadata": {
    "colab": {
      "name": "FFN Case Study.ipynb",
      "provenance": [],
      "collapsed_sections": []
    },
    "kernelspec": {
      "display_name": "Python 3",
      "name": "python3"
    }
  },
  "cells": [
    {
      "cell_type": "markdown",
      "metadata": {
        "id": "mcxUvTVOqSGb"
      },
      "source": [
        "# DS Growth Case Study\n",
        "\n",
        "## Context: \n",
        "A user is looking for loans on Google and enters a search query. Depending on how related the search query is to FFN business, we choose to bid for the query with the goal of maximizing the user impressions using Google Adwords (Google actually showing the ad to the user when they execute the search). This would lead to more clicks on ads, and potentially more signups, activations, and revenue. Here activation is defined as a user successfully contacted by FFN call center.\n",
        "\n",
        "## Questions:\n",
        "\n",
        "1.\tUsing the dataset attached ‘clicks-activation_v2.csv’, build a model to predict the probability of activation per click.\n",
        "\n",
        "2.\tPlease create a presentation using the following guidelines:\n",
        "  -\tDescribe the workflow steps (explicitly setting up the optimization problem and choice of objective function) and your hypothesis.\n",
        "  -\tEvaluate the performance of the model (pre-production)?\n",
        "  -\tWhat are some of the shortcomings of this approach?\n",
        "  -\tWhat are some other features you might need to come up with a better model?\n",
        "\n",
        "3.\tWhat does the engineering architecture to productionize one of the solutions looks like? What trade-offs would you use to productionize promising algorithms faster?\n",
        "\n",
        "4.\tDiscuss how will you analyze the business performance of the algorithm once in production using metrics such as marketing ROI etc.?\n",
        "\n",
        "Each of the four parts above carry equal weightage in evaluation. We don’t think you need to spend more than 3 hours on the overall exercise (please feel free to take more time if you want). If you have questions please contact: azajic@freedomfinancialnetwork.com\n",
        "\n",
        "## Data Dictionary:\n",
        "\n",
        "1.\tcreated_date - date on which the click was recorded\n",
        "2.\tlocation_in_query - city name that appeared in search query\n",
        "3.\tplatform - platform such as web/mobile\n",
        "4.\tcampaign_state - US state where the ad campaign was run\n",
        "5.\tin_city - whether the ad campaign was run in a city or not\n",
        "6.\tis_prime - whether the word fico prime appeared in the search query\n",
        "7.\tis_hardship - whether the word hardship appeared in the search query\n",
        "8.\tcategory_debt_type - type of debt solution that appeared in the search query\n",
        "9.\t[TARGET] is_activated – whether the user talked to FFN call center or not\n"
      ]
    },
    {
      "cell_type": "markdown",
      "metadata": {
        "id": "vy1wm1mtaMwB"
      },
      "source": [
        "# Loading required modules"
      ]
    },
    {
      "cell_type": "code",
      "metadata": {
        "id": "9_Bikq0nVhQG"
      },
      "source": [
        "import numpy as np\n",
        "import pandas as pd\n",
        "\n",
        "import tensorflow as tf\n",
        "\n",
        "from tensorflow import feature_column\n",
        "from tensorflow.keras import layers\n",
        "from sklearn.model_selection import train_test_split\n",
        "from sklearn.preprocessing import MinMaxScaler"
      ],
      "execution_count": 2,
      "outputs": []
    },
    {
      "cell_type": "markdown",
      "metadata": {
        "id": "Ni7nmZoAp8G_"
      },
      "source": [
        "# Loading the data\n",
        "Let's load the data file as Pandas DateFrame:"
      ]
    },
    {
      "cell_type": "code",
      "metadata": {
        "id": "p4ohKgfSVl91",
        "outputId": "1101d41a-9124-4acf-f5aa-f9d206740f55",
        "colab": {
          "base_uri": "https://localhost:8080/",
          "height": 731
        }
      },
      "source": [
        "#loading the data\n",
        "clicks = pd.read_csv('drive/My Drive/ffn/data/clicks-activation_v2.csv')\n",
        "\n",
        "#creating a new column for time as integer\n",
        "clicks['time_index'] = pd.to_datetime(clicks['created_date']).astype(int)\n",
        "\n",
        "#printing data types for each columns\n",
        "print(clicks.dtypes, '\\n')\n",
        "\n",
        "#printing info summary\n",
        "print(clicks.info(), '\\n')\n",
        "\n",
        "#printing first few rows\n",
        "clicks.head()"
      ],
      "execution_count": 3,
      "outputs": [
        {
          "output_type": "stream",
          "text": [
            "created_date          object\n",
            "location_in_query     object\n",
            "platform              object\n",
            "campaign_state        object\n",
            "in_city                int64\n",
            "is_prime               int64\n",
            "is_hardship            int64\n",
            "is_activated            bool\n",
            "category_debt_type    object\n",
            "time_index             int64\n",
            "dtype: object \n",
            "\n",
            "<class 'pandas.core.frame.DataFrame'>\n",
            "RangeIndex: 94194 entries, 0 to 94193\n",
            "Data columns (total 10 columns):\n",
            " #   Column              Non-Null Count  Dtype \n",
            "---  ------              --------------  ----- \n",
            " 0   created_date        94194 non-null  object\n",
            " 1   location_in_query   94179 non-null  object\n",
            " 2   platform            94194 non-null  object\n",
            " 3   campaign_state      94188 non-null  object\n",
            " 4   in_city             94194 non-null  int64 \n",
            " 5   is_prime            94194 non-null  int64 \n",
            " 6   is_hardship         94194 non-null  int64 \n",
            " 7   is_activated        94194 non-null  bool  \n",
            " 8   category_debt_type  84335 non-null  object\n",
            " 9   time_index          94194 non-null  int64 \n",
            "dtypes: bool(1), int64(4), object(5)\n",
            "memory usage: 6.6+ MB\n",
            "None \n",
            "\n"
          ],
          "name": "stdout"
        },
        {
          "output_type": "execute_result",
          "data": {
            "text/html": [
              "<div>\n",
              "<style scoped>\n",
              "    .dataframe tbody tr th:only-of-type {\n",
              "        vertical-align: middle;\n",
              "    }\n",
              "\n",
              "    .dataframe tbody tr th {\n",
              "        vertical-align: top;\n",
              "    }\n",
              "\n",
              "    .dataframe thead th {\n",
              "        text-align: right;\n",
              "    }\n",
              "</style>\n",
              "<table border=\"1\" class=\"dataframe\">\n",
              "  <thead>\n",
              "    <tr style=\"text-align: right;\">\n",
              "      <th></th>\n",
              "      <th>created_date</th>\n",
              "      <th>location_in_query</th>\n",
              "      <th>platform</th>\n",
              "      <th>campaign_state</th>\n",
              "      <th>in_city</th>\n",
              "      <th>is_prime</th>\n",
              "      <th>is_hardship</th>\n",
              "      <th>is_activated</th>\n",
              "      <th>category_debt_type</th>\n",
              "      <th>time_index</th>\n",
              "    </tr>\n",
              "  </thead>\n",
              "  <tbody>\n",
              "    <tr>\n",
              "      <th>0</th>\n",
              "      <td>12/27/2017</td>\n",
              "      <td>san antonio</td>\n",
              "      <td>mobile web</td>\n",
              "      <td>tx</td>\n",
              "      <td>1</td>\n",
              "      <td>0</td>\n",
              "      <td>0</td>\n",
              "      <td>True</td>\n",
              "      <td>debt_settlement</td>\n",
              "      <td>1514332800000000000</td>\n",
              "    </tr>\n",
              "    <tr>\n",
              "      <th>1</th>\n",
              "      <td>1/10/2018</td>\n",
              "      <td>honolulu</td>\n",
              "      <td>mobile web</td>\n",
              "      <td>hi</td>\n",
              "      <td>0</td>\n",
              "      <td>0</td>\n",
              "      <td>0</td>\n",
              "      <td>False</td>\n",
              "      <td>debt_settlement</td>\n",
              "      <td>1515542400000000000</td>\n",
              "    </tr>\n",
              "    <tr>\n",
              "      <th>2</th>\n",
              "      <td>12/15/2017</td>\n",
              "      <td>atlanta</td>\n",
              "      <td>desktop web</td>\n",
              "      <td>ga</td>\n",
              "      <td>1</td>\n",
              "      <td>0</td>\n",
              "      <td>0</td>\n",
              "      <td>True</td>\n",
              "      <td>debt_settlement</td>\n",
              "      <td>1513296000000000000</td>\n",
              "    </tr>\n",
              "    <tr>\n",
              "      <th>3</th>\n",
              "      <td>1/6/2018</td>\n",
              "      <td>honolulu</td>\n",
              "      <td>mobile web</td>\n",
              "      <td>hi</td>\n",
              "      <td>0</td>\n",
              "      <td>0</td>\n",
              "      <td>0</td>\n",
              "      <td>False</td>\n",
              "      <td>debt_settlement</td>\n",
              "      <td>1515196800000000000</td>\n",
              "    </tr>\n",
              "    <tr>\n",
              "      <th>4</th>\n",
              "      <td>12/20/2017</td>\n",
              "      <td>South Beachmi</td>\n",
              "      <td>mobile web</td>\n",
              "      <td>fl</td>\n",
              "      <td>0</td>\n",
              "      <td>0</td>\n",
              "      <td>0</td>\n",
              "      <td>False</td>\n",
              "      <td>cash_loan</td>\n",
              "      <td>1513728000000000000</td>\n",
              "    </tr>\n",
              "  </tbody>\n",
              "</table>\n",
              "</div>"
            ],
            "text/plain": [
              "  created_date location_in_query  ... category_debt_type           time_index\n",
              "0   12/27/2017       san antonio  ...    debt_settlement  1514332800000000000\n",
              "1    1/10/2018          honolulu  ...    debt_settlement  1515542400000000000\n",
              "2   12/15/2017           atlanta  ...    debt_settlement  1513296000000000000\n",
              "3     1/6/2018          honolulu  ...    debt_settlement  1515196800000000000\n",
              "4   12/20/2017     South Beachmi  ...          cash_loan  1513728000000000000\n",
              "\n",
              "[5 rows x 10 columns]"
            ]
          },
          "metadata": {
            "tags": []
          },
          "execution_count": 3
        }
      ]
    },
    {
      "cell_type": "code",
      "metadata": {
        "id": "jsMqd7btoWyl"
      },
      "source": [
        "clicks['is_activated'] = np.where(clicks['is_activated']==True, 0, 1)"
      ],
      "execution_count": 4,
      "outputs": []
    },
    {
      "cell_type": "code",
      "metadata": {
        "id": "eHyiAXHJJxIO",
        "outputId": "398f1495-ce95-4e83-f861-ae7ea06fd53a",
        "colab": {
          "base_uri": "https://localhost:8080/"
        }
      },
      "source": [
        "clicks.is_activated.value_counts()"
      ],
      "execution_count": 5,
      "outputs": [
        {
          "output_type": "execute_result",
          "data": {
            "text/plain": [
              "1    87407\n",
              "0     6787\n",
              "Name: is_activated, dtype: int64"
            ]
          },
          "metadata": {
            "tags": []
          },
          "execution_count": 5
        }
      ]
    },
    {
      "cell_type": "markdown",
      "metadata": {
        "id": "fL2EUIgA5UES"
      },
      "source": [
        "As shown above there are missing values in different columns. We can take a closer look at the statistics  using the below command."
      ]
    },
    {
      "cell_type": "code",
      "metadata": {
        "id": "AWuFLjeK5SrD",
        "outputId": "53b5db8e-2045-4831-d7d5-24055367bda9",
        "colab": {
          "base_uri": "https://localhost:8080/"
        }
      },
      "source": [
        "print(clicks.isnull().sum())"
      ],
      "execution_count": 6,
      "outputs": [
        {
          "output_type": "stream",
          "text": [
            "created_date             0\n",
            "location_in_query       15\n",
            "platform                 0\n",
            "campaign_state           6\n",
            "in_city                  0\n",
            "is_prime                 0\n",
            "is_hardship              0\n",
            "is_activated             0\n",
            "category_debt_type    9859\n",
            "time_index               0\n",
            "dtype: int64\n"
          ],
          "name": "stdout"
        }
      ]
    },
    {
      "cell_type": "markdown",
      "metadata": {
        "id": "ERVTLJd5x7lS"
      },
      "source": [
        "# Incorporating Date and Time\n",
        "I use time/date as two main features: 1) as a categorical variable 2) as a continuous normalized number"
      ]
    },
    {
      "cell_type": "code",
      "metadata": {
        "id": "gcIpAy6jx6ru"
      },
      "source": [
        "scaler = MinMaxScaler()\n",
        "clicks[['time_index']] = scaler.fit_transform(clicks[['time_index']])\n"
      ],
      "execution_count": 7,
      "outputs": []
    },
    {
      "cell_type": "markdown",
      "metadata": {
        "id": "sByCN3q_8Ssy"
      },
      "source": [
        "# Imputation\n",
        "There are missing values in three categorical columns that should be imputed: `location_in_query`, `campaign_state`, and `category_debt_type`."
      ]
    },
    {
      "cell_type": "code",
      "metadata": {
        "id": "8DFo9-Fn8UCB",
        "outputId": "55d790e4-5ec4-4c30-ff2b-887ba7fcf2f7",
        "colab": {
          "base_uri": "https://localhost:8080/"
        }
      },
      "source": [
        "states = ['al', 'ak', 'az', 'ar', 'ca', 'co', 'ct', 'dc', 'de', 'fl', 'ga', 'hi', \n",
        "          'id', 'il', 'in', 'ia', 'ks', 'ky', 'la', 'me', 'md', 'ma', 'mi', 'mn',\n",
        "          'ms', 'mo', 'mt', 'ne', 'nv', 'nh', 'nj', 'nm', 'ny', 'nc', 'nd', 'oh',\n",
        "          'ok', 'or', 'pa', 'ri', 'sc', 'sd', 'tn', 'tx', 'ut', 'vt', 'va', 'wa', \n",
        "          'wv', 'wi', 'wy']\n",
        "\n",
        "# also imputing states where the value is a number\n",
        "clicks.loc[~clicks['campaign_state'].isin(states),'campaign_state'] = np.nan\n",
        "\n",
        "#imputing campaign_state with the most frequent state\n",
        "clicks['campaign_state'].fillna(clicks['campaign_state'].mode()[0], inplace = True)\n",
        "\n",
        "#imputing location_in_query with the unknown_location\n",
        "clicks['location_in_query'].fillna('unknown_location', inplace = True)\n",
        "\n",
        "#imputing category_debt_type with the most frequent value\n",
        "clicks['category_debt_type'].fillna(clicks['category_debt_type'].mode()[0], inplace = True)\n",
        "\n",
        "print(clicks.isnull().sum())"
      ],
      "execution_count": 8,
      "outputs": [
        {
          "output_type": "stream",
          "text": [
            "created_date          0\n",
            "location_in_query     0\n",
            "platform              0\n",
            "campaign_state        0\n",
            "in_city               0\n",
            "is_prime              0\n",
            "is_hardship           0\n",
            "is_activated          0\n",
            "category_debt_type    0\n",
            "time_index            0\n",
            "dtype: int64\n"
          ],
          "name": "stdout"
        }
      ]
    },
    {
      "cell_type": "markdown",
      "metadata": {
        "id": "fy0_gJB9QLfs"
      },
      "source": [
        "# Balance the data\n",
        "As the training data is imbalanced, we need to adjust number of positive vs negaive labels. "
      ]
    },
    {
      "cell_type": "code",
      "metadata": {
        "id": "NIJAhYUcQMTQ",
        "outputId": "78cfdbb0-3bef-43f4-806f-ae276b96ff2d",
        "colab": {
          "base_uri": "https://localhost:8080/"
        }
      },
      "source": [
        "from sklearn.utils import resample\n",
        "\n",
        "data = clicks.copy()\n",
        "\n",
        "#check the length of each class\n",
        "print('oringal data class size:\\n',data.is_activated.value_counts(), '\\n')\n",
        "\n",
        "#creating subsets\n",
        "data_not_activated = data[np.array(data.is_activated) == 0]\n",
        "data_activated = data[np.array(data.is_activated) == 1]\n",
        "\n",
        "#upsampling of the minorty class\n",
        "n_samples = len(data_activated)\n",
        "\n",
        "#downsampling of the minorty class\n",
        "#n_samples = len(data_not_activated)\n",
        "\n",
        "data_not_activated_resampled = resample(data_not_activated, n_samples = n_samples, random_state = 0)\n",
        "data_activated_resampled = resample(data_activated, n_samples = n_samples, random_state = 0)\n",
        "\n",
        "#merged data back together\n",
        "data_resampled = pd.concat([data_not_activated_resampled, data_activated_resampled])\n",
        "\n",
        "#shuffle the data\n",
        "data_resampled = data_resampled.sample(frac = 1) \n",
        "\n",
        "#check the final stats\n",
        "print('resampled data class size:\\n', data_resampled.is_activated.value_counts())"
      ],
      "execution_count": 9,
      "outputs": [
        {
          "output_type": "stream",
          "text": [
            "oringal data class size:\n",
            " 1    87407\n",
            "0     6787\n",
            "Name: is_activated, dtype: int64 \n",
            "\n",
            "resampled data class size:\n",
            " 1    87407\n",
            "0    87407\n",
            "Name: is_activated, dtype: int64\n"
          ],
          "name": "stdout"
        }
      ]
    },
    {
      "cell_type": "markdown",
      "metadata": {
        "id": "33DmvIBctJM4"
      },
      "source": [
        "# Split the Data \n",
        "One important step is always to split the data into train, validation and test. We accomplish this by the two times running the train_test_split function from sklearn."
      ]
    },
    {
      "cell_type": "code",
      "metadata": {
        "id": "VPtH1FtJWDog",
        "outputId": "2536e647-1774-4ade-c17d-78974b168cc5",
        "colab": {
          "base_uri": "https://localhost:8080/"
        }
      },
      "source": [
        "# splitting the data\n",
        "\n",
        "# the test data will be used only after the model is trained\n",
        "train_valid, test = train_test_split(data_resampled, test_size = 0.2, shuffle = True) \n",
        "\n",
        "# the valid data will be used during the training but not for the training, only for evaluations per epoch\n",
        "train, valid = train_test_split(train_valid, test_size = 0.25, shuffle = True) \n",
        "\n",
        "#printig their length\n",
        "print('training data size:', len(train))\n",
        "print('validation data size:', len(valid))\n",
        "print('testing data size:', len(test))"
      ],
      "execution_count": 10,
      "outputs": [
        {
          "output_type": "stream",
          "text": [
            "training data size: 104888\n",
            "validation data size: 34963\n",
            "testing data size: 34963\n"
          ],
          "name": "stdout"
        }
      ]
    },
    {
      "cell_type": "markdown",
      "metadata": {
        "id": "PKqkkM0FHm9-"
      },
      "source": [
        "# Creating TensorFlow Ready Datasets\n",
        "To prepare the input data for the TensorFlow data pipeline, we need to put to in sliced batches.\n",
        "\n",
        "---\n",
        "\n"
      ]
    },
    {
      "cell_type": "code",
      "metadata": {
        "id": "pQcif9mbu8lj"
      },
      "source": [
        "def create_dataset(data, batch_size=1024):\n",
        "  df = data.copy()\n",
        "  labels = df.pop('is_activated')\n",
        "  \n",
        "  dataset = tf.data.Dataset.from_tensor_slices((dict(df), labels))\n",
        "\n",
        "  # shuffle the dataset\n",
        "  dataset = dataset.shuffle(buffer_size=len(df))\n",
        "\n",
        "  dataset = dataset.batch(batch_size)\n",
        "  return dataset\n"
      ],
      "execution_count": 11,
      "outputs": []
    },
    {
      "cell_type": "code",
      "metadata": {
        "id": "R4fAUARdwtyZ"
      },
      "source": [
        "train_data = create_dataset(train)\n",
        "val_data = create_dataset(valid)\n",
        "test_data = create_dataset(test)"
      ],
      "execution_count": 12,
      "outputs": []
    },
    {
      "cell_type": "markdown",
      "metadata": {
        "id": "zdlShm_XXNV3"
      },
      "source": [
        "# Feature Columns\n",
        "To create the list of what feature to put in the model, we use the `feature_column` module from `TensorFlow`."
      ]
    },
    {
      "cell_type": "code",
      "metadata": {
        "id": "xDQo7ggnYDzE",
        "outputId": "a432dbd7-8841-4d1d-c437-901f93d24f6b",
        "colab": {
          "base_uri": "https://localhost:8080/"
        }
      },
      "source": [
        "for i in clicks.columns:\n",
        "  print(i, len(clicks[i].unique()), clicks[i].dtype)  "
      ],
      "execution_count": 13,
      "outputs": [
        {
          "output_type": "stream",
          "text": [
            "created_date 32 object\n",
            "location_in_query 797 object\n",
            "platform 3 object\n",
            "campaign_state 43 object\n",
            "in_city 2 int64\n",
            "is_prime 2 int64\n",
            "is_hardship 2 int64\n",
            "is_activated 2 int64\n",
            "category_debt_type 4 object\n",
            "time_index 32 float64\n"
          ],
          "name": "stdout"
        }
      ]
    },
    {
      "cell_type": "code",
      "metadata": {
        "id": "mlZutCcGbzyS",
        "outputId": "88149f3b-7630-4edb-9b07-e42749896e46",
        "colab": {
          "base_uri": "https://localhost:8080/"
        }
      },
      "source": [
        "clicks.platform.unique()"
      ],
      "execution_count": 14,
      "outputs": [
        {
          "output_type": "execute_result",
          "data": {
            "text/plain": [
              "array(['mobile web', 'desktop web', 'undefined platform'], dtype=object)"
            ]
          },
          "metadata": {
            "tags": []
          },
          "execution_count": 14
        }
      ]
    },
    {
      "cell_type": "code",
      "metadata": {
        "id": "dxBl9RB32JN9"
      },
      "source": [
        "from tensorflow import feature_column\n",
        "\n",
        "feature_columns = []\n",
        "\n",
        "#first numerical columns\n",
        "for col_name in ['in_city', 'is_prime', 'is_hardship', 'time_index']:\n",
        "  feature_columns.append(feature_column.numeric_column(col_name))\n",
        "\n",
        "# indicator columns\n",
        "indicator_column_names = ['platform', 'category_debt_type']\n",
        "for col_name in indicator_column_names:\n",
        "  categorical_column = feature_column.categorical_column_with_vocabulary_list(col_name, clicks[col_name].unique())\n",
        "  indicator_column = feature_column.indicator_column(categorical_column)\n",
        "  feature_columns.append(indicator_column)\n",
        "\n",
        "# embedding cateogorical columns\n",
        "embeding_columns = ['created_date', 'campaign_state']\n",
        "for col_name in embeding_columns:\n",
        "  vocab = clicks[col_name].unique()\n",
        "  categorical_column = feature_column.categorical_column_with_vocabulary_list(col_name, vocab)\n",
        "  column_embedding = feature_column.embedding_column(categorical_column, dimension= 10)#int(len(vocab) *.3))\n",
        "  feature_columns.append(column_embedding)\n",
        "  \n",
        "# crossed columns\n",
        "campaign_state = feature_column.categorical_column_with_vocabulary_list('campaign_state', clicks.campaign_state.unique())\n",
        "location_in_query = feature_column.categorical_column_with_vocabulary_list('location_in_query', clicks.location_in_query.unique())\n",
        "state_location = feature_column.crossed_column([campaign_state, location_in_query], hash_bucket_size=500)\n",
        "feature_columns.append(feature_column.indicator_column(state_location))"
      ],
      "execution_count": 15,
      "outputs": []
    },
    {
      "cell_type": "markdown",
      "metadata": {
        "id": "VUZJXlg5BQGN"
      },
      "source": [
        "# Model"
      ]
    },
    {
      "cell_type": "code",
      "metadata": {
        "id": "dJoQGsPvXjxq"
      },
      "source": [
        "model = tf.keras.Sequential()\n",
        "\n",
        "model.add(layers.DenseFeatures(feature_columns))\n",
        "\n",
        "model.add(layers.Dense(1024, activation='relu'))\n",
        "model.add(layers.Dropout(0.5))\n",
        "\n",
        "model.add(layers.Dense(128, activation='relu'))\n",
        "model.add(layers.Dropout(0.5))\n",
        "\n",
        "model.add(layers.Dense(1, activation='sigmoid'))\n"
      ],
      "execution_count": 16,
      "outputs": []
    },
    {
      "cell_type": "code",
      "metadata": {
        "id": "Xi_LwJamlbbq"
      },
      "source": [
        "# I used four main metrics for our binary classification.\n",
        "metrics = [\n",
        "      tf.keras.metrics.BinaryAccuracy(name='accuracy'),\n",
        "      tf.keras.metrics.AUC(name='auc'),\n",
        "      tf.keras.metrics.Precision(name='precision'),\n",
        "      tf.keras.metrics.Recall(name='recall'),\n",
        "]\n",
        "\n",
        "metrics_names =  ['loss','accuracy', 'auc', 'precision', 'recall']"
      ],
      "execution_count": 17,
      "outputs": []
    },
    {
      "cell_type": "code",
      "metadata": {
        "id": "vYuAQaR0fp4O"
      },
      "source": [
        "#model compile\n",
        "model.compile(optimizer = tf.keras.optimizers.Adam(learning_rate= 0.001),\n",
        "              loss = tf.keras.losses.BinaryCrossentropy(),\n",
        "              metrics = metrics)"
      ],
      "execution_count": 18,
      "outputs": []
    },
    {
      "cell_type": "code",
      "metadata": {
        "id": "0-IOgQn_1l3S",
        "outputId": "d84293c7-bdf5-4943-8fb0-98039aeaf78d",
        "colab": {
          "base_uri": "https://localhost:8080/"
        }
      },
      "source": [
        "class_weight = {1: 1,\n",
        "                0: 0.75}\n",
        "\n",
        "history = model.fit(train_data,\n",
        "                    validation_data = val_data, \n",
        "                    class_weight = class_weight,\n",
        "                    epochs=20)"
      ],
      "execution_count": 19,
      "outputs": [
        {
          "output_type": "stream",
          "text": [
            "Epoch 1/20\n",
            "WARNING:tensorflow:Layers in a Sequential model should only have a single input tensor, but we receive a <class 'dict'> input: {'created_date': <tf.Tensor 'ExpandDims_2:0' shape=(None, 1) dtype=string>, 'location_in_query': <tf.Tensor 'ExpandDims_6:0' shape=(None, 1) dtype=string>, 'platform': <tf.Tensor 'ExpandDims_7:0' shape=(None, 1) dtype=string>, 'campaign_state': <tf.Tensor 'ExpandDims:0' shape=(None, 1) dtype=string>, 'in_city': <tf.Tensor 'ExpandDims_3:0' shape=(None, 1) dtype=int64>, 'is_prime': <tf.Tensor 'ExpandDims_5:0' shape=(None, 1) dtype=int64>, 'is_hardship': <tf.Tensor 'ExpandDims_4:0' shape=(None, 1) dtype=int64>, 'category_debt_type': <tf.Tensor 'ExpandDims_1:0' shape=(None, 1) dtype=string>, 'time_index': <tf.Tensor 'ExpandDims_8:0' shape=(None, 1) dtype=float64>}\n",
            "Consider rewriting this model with the Functional API.\n",
            "WARNING:tensorflow:Layer dense_features is casting an input tensor from dtype float64 to the layer's dtype of float32, which is new behavior in TensorFlow 2.  The layer has dtype float32 because its dtype defaults to floatx.\n",
            "\n",
            "If you intended to run this layer in float32, you can safely ignore this warning. If in doubt, this warning is likely only an issue if you are porting a TensorFlow 1.X model to TensorFlow 2.\n",
            "\n",
            "To change all layers to have dtype float64 by default, call `tf.keras.backend.set_floatx('float64')`. To change just this layer, pass dtype='float64' to the layer constructor. If you are the author of this layer, you can disable autocasting by passing autocast=False to the base Layer constructor.\n",
            "\n",
            "WARNING:tensorflow:Layers in a Sequential model should only have a single input tensor, but we receive a <class 'dict'> input: {'created_date': <tf.Tensor 'ExpandDims_2:0' shape=(None, 1) dtype=string>, 'location_in_query': <tf.Tensor 'ExpandDims_6:0' shape=(None, 1) dtype=string>, 'platform': <tf.Tensor 'ExpandDims_7:0' shape=(None, 1) dtype=string>, 'campaign_state': <tf.Tensor 'ExpandDims:0' shape=(None, 1) dtype=string>, 'in_city': <tf.Tensor 'ExpandDims_3:0' shape=(None, 1) dtype=int64>, 'is_prime': <tf.Tensor 'ExpandDims_5:0' shape=(None, 1) dtype=int64>, 'is_hardship': <tf.Tensor 'ExpandDims_4:0' shape=(None, 1) dtype=int64>, 'category_debt_type': <tf.Tensor 'ExpandDims_1:0' shape=(None, 1) dtype=string>, 'time_index': <tf.Tensor 'ExpandDims_8:0' shape=(None, 1) dtype=float64>}\n",
            "Consider rewriting this model with the Functional API.\n",
            "103/103 [==============================] - ETA: 0s - loss: 0.5784 - accuracy: 0.5519 - auc: 0.6095 - precision: 0.5343 - recall: 0.8212WARNING:tensorflow:Layers in a Sequential model should only have a single input tensor, but we receive a <class 'dict'> input: {'created_date': <tf.Tensor 'ExpandDims_2:0' shape=(None, 1) dtype=string>, 'location_in_query': <tf.Tensor 'ExpandDims_6:0' shape=(None, 1) dtype=string>, 'platform': <tf.Tensor 'ExpandDims_7:0' shape=(None, 1) dtype=string>, 'campaign_state': <tf.Tensor 'ExpandDims:0' shape=(None, 1) dtype=string>, 'in_city': <tf.Tensor 'ExpandDims_3:0' shape=(None, 1) dtype=int64>, 'is_prime': <tf.Tensor 'ExpandDims_5:0' shape=(None, 1) dtype=int64>, 'is_hardship': <tf.Tensor 'ExpandDims_4:0' shape=(None, 1) dtype=int64>, 'category_debt_type': <tf.Tensor 'ExpandDims_1:0' shape=(None, 1) dtype=string>, 'time_index': <tf.Tensor 'ExpandDims_8:0' shape=(None, 1) dtype=float64>}\n",
            "Consider rewriting this model with the Functional API.\n",
            "103/103 [==============================] - 13s 122ms/step - loss: 0.5784 - accuracy: 0.5519 - auc: 0.6095 - precision: 0.5343 - recall: 0.8212 - val_loss: 0.6646 - val_accuracy: 0.5826 - val_auc: 0.6452 - val_precision: 0.5603 - val_recall: 0.7738\n",
            "Epoch 2/20\n",
            "103/103 [==============================] - 12s 117ms/step - loss: 0.5624 - accuracy: 0.5875 - auc: 0.6521 - precision: 0.5649 - recall: 0.7681 - val_loss: 0.6595 - val_accuracy: 0.5828 - val_auc: 0.6677 - val_precision: 0.5558 - val_recall: 0.8323\n",
            "Epoch 3/20\n",
            "103/103 [==============================] - 12s 118ms/step - loss: 0.5494 - accuracy: 0.6089 - auc: 0.6783 - precision: 0.5848 - recall: 0.7563 - val_loss: 0.6345 - val_accuracy: 0.6213 - val_auc: 0.6942 - val_precision: 0.5991 - val_recall: 0.7370\n",
            "Epoch 4/20\n",
            "103/103 [==============================] - 12s 117ms/step - loss: 0.5328 - accuracy: 0.6317 - auc: 0.7068 - precision: 0.6070 - recall: 0.7510 - val_loss: 0.6184 - val_accuracy: 0.6300 - val_auc: 0.7229 - val_precision: 0.5983 - val_recall: 0.7948\n",
            "Epoch 5/20\n",
            "103/103 [==============================] - 12s 117ms/step - loss: 0.5173 - accuracy: 0.6502 - auc: 0.7294 - precision: 0.6258 - recall: 0.7503 - val_loss: 0.6010 - val_accuracy: 0.6491 - val_auc: 0.7399 - val_precision: 0.6184 - val_recall: 0.7815\n",
            "Epoch 6/20\n",
            "103/103 [==============================] - 12s 118ms/step - loss: 0.5045 - accuracy: 0.6605 - auc: 0.7453 - precision: 0.6367 - recall: 0.7506 - val_loss: 0.5825 - val_accuracy: 0.6688 - val_auc: 0.7587 - val_precision: 0.6399 - val_recall: 0.7750\n",
            "Epoch 7/20\n",
            "103/103 [==============================] - 12s 117ms/step - loss: 0.4938 - accuracy: 0.6691 - auc: 0.7576 - precision: 0.6436 - recall: 0.7605 - val_loss: 0.5704 - val_accuracy: 0.6781 - val_auc: 0.7661 - val_precision: 0.6568 - val_recall: 0.7485\n",
            "Epoch 8/20\n",
            "103/103 [==============================] - 12s 117ms/step - loss: 0.4856 - accuracy: 0.6751 - auc: 0.7666 - precision: 0.6500 - recall: 0.7613 - val_loss: 0.5587 - val_accuracy: 0.6834 - val_auc: 0.7728 - val_precision: 0.6683 - val_recall: 0.7302\n",
            "Epoch 9/20\n",
            "103/103 [==============================] - 12s 118ms/step - loss: 0.4775 - accuracy: 0.6834 - auc: 0.7759 - precision: 0.6578 - recall: 0.7670 - val_loss: 0.5583 - val_accuracy: 0.6774 - val_auc: 0.7784 - val_precision: 0.6442 - val_recall: 0.7950\n",
            "Epoch 10/20\n",
            "103/103 [==============================] - 12s 117ms/step - loss: 0.4725 - accuracy: 0.6856 - auc: 0.7807 - precision: 0.6600 - recall: 0.7679 - val_loss: 0.5519 - val_accuracy: 0.6795 - val_auc: 0.7838 - val_precision: 0.6456 - val_recall: 0.7987\n",
            "Epoch 11/20\n",
            "103/103 [==============================] - 12s 117ms/step - loss: 0.4676 - accuracy: 0.6879 - auc: 0.7855 - precision: 0.6609 - recall: 0.7741 - val_loss: 0.5423 - val_accuracy: 0.6918 - val_auc: 0.7881 - val_precision: 0.6728 - val_recall: 0.7487\n",
            "Epoch 12/20\n",
            "103/103 [==============================] - 12s 117ms/step - loss: 0.4636 - accuracy: 0.6923 - auc: 0.7899 - precision: 0.6670 - recall: 0.7705 - val_loss: 0.5423 - val_accuracy: 0.6854 - val_auc: 0.7916 - val_precision: 0.6490 - val_recall: 0.8100\n",
            "Epoch 13/20\n",
            "103/103 [==============================] - 12s 118ms/step - loss: 0.4599 - accuracy: 0.6932 - auc: 0.7925 - precision: 0.6664 - recall: 0.7761 - val_loss: 0.5394 - val_accuracy: 0.6886 - val_auc: 0.7929 - val_precision: 0.6544 - val_recall: 0.8018\n",
            "Epoch 14/20\n",
            "103/103 [==============================] - 12s 117ms/step - loss: 0.4579 - accuracy: 0.6951 - auc: 0.7947 - precision: 0.6672 - recall: 0.7811 - val_loss: 0.5350 - val_accuracy: 0.6879 - val_auc: 0.7957 - val_precision: 0.6541 - val_recall: 0.7997\n",
            "Epoch 15/20\n",
            "103/103 [==============================] - 12s 118ms/step - loss: 0.4538 - accuracy: 0.6979 - auc: 0.7986 - precision: 0.6704 - recall: 0.7810 - val_loss: 0.5288 - val_accuracy: 0.6988 - val_auc: 0.7979 - val_precision: 0.6790 - val_recall: 0.7558\n",
            "Epoch 16/20\n",
            "103/103 [==============================] - 12s 118ms/step - loss: 0.4517 - accuracy: 0.7002 - auc: 0.8008 - precision: 0.6734 - recall: 0.7800 - val_loss: 0.5296 - val_accuracy: 0.6955 - val_auc: 0.7996 - val_precision: 0.6651 - val_recall: 0.7896\n",
            "Epoch 17/20\n",
            "103/103 [==============================] - 12s 118ms/step - loss: 0.4489 - accuracy: 0.7018 - auc: 0.8031 - precision: 0.6744 - recall: 0.7826 - val_loss: 0.5246 - val_accuracy: 0.7037 - val_auc: 0.8027 - val_precision: 0.6806 - val_recall: 0.7698\n",
            "Epoch 18/20\n",
            "103/103 [==============================] - 12s 118ms/step - loss: 0.4463 - accuracy: 0.7045 - auc: 0.8060 - precision: 0.6767 - recall: 0.7854 - val_loss: 0.5229 - val_accuracy: 0.7005 - val_auc: 0.8052 - val_precision: 0.6698 - val_recall: 0.7931\n",
            "Epoch 19/20\n",
            "103/103 [==============================] - 12s 117ms/step - loss: 0.4442 - accuracy: 0.7048 - auc: 0.8080 - precision: 0.6764 - recall: 0.7874 - val_loss: 0.5226 - val_accuracy: 0.6962 - val_auc: 0.8059 - val_precision: 0.6611 - val_recall: 0.8073\n",
            "Epoch 20/20\n",
            "103/103 [==============================] - 12s 119ms/step - loss: 0.4431 - accuracy: 0.7054 - auc: 0.8087 - precision: 0.6771 - recall: 0.7872 - val_loss: 0.5208 - val_accuracy: 0.7011 - val_auc: 0.8050 - val_precision: 0.6739 - val_recall: 0.7813\n"
          ],
          "name": "stdout"
        }
      ]
    },
    {
      "cell_type": "code",
      "metadata": {
        "id": "yRo_codARMjn",
        "outputId": "1737a2be-a20a-4f60-ccdc-26ace90809c0",
        "colab": {
          "base_uri": "https://localhost:8080/"
        }
      },
      "source": [
        "print('training evaluation:', model.evaluate(train_data))\n",
        "print('test evaluation:', model.evaluate(test_data))"
      ],
      "execution_count": 36,
      "outputs": [
        {
          "output_type": "stream",
          "text": [
            "103/103 [==============================] - 4s 38ms/step - loss: 0.4867 - accuracy: 0.7269 - auc: 0.8370 - precision: 0.6944 - recall: 0.8125\n",
            "training evaluation: [0.48665502667427063, 0.7269468307495117, 0.8369557857513428, 0.6944223046302795, 0.812465488910675]\n",
            "35/35 [==============================] - 1s 37ms/step - loss: 0.5195 - accuracy: 0.7009 - auc: 0.8065 - precision: 0.6693 - recall: 0.7854\n",
            "training evaluation: [0.5195362567901611, 0.7009409666061401, 0.8065068125724792, 0.6693354249000549, 0.7853726148605347]\n"
          ],
          "name": "stdout"
        }
      ]
    },
    {
      "cell_type": "code",
      "metadata": {
        "id": "4fkCdIQuqRxt",
        "outputId": "dea9a90f-7943-477c-d4f5-040a1432dc86",
        "colab": {
          "base_uri": "https://localhost:8080/"
        }
      },
      "source": [
        "model.save('drive/My Drive/ffn/model.tfm')"
      ],
      "execution_count": 22,
      "outputs": [
        {
          "output_type": "stream",
          "text": [
            "WARNING:tensorflow:Layers in a Sequential model should only have a single input tensor, but we receive a <class 'dict'> input: {'created_date': <tf.Tensor 'created_date:0' shape=(None, 1) dtype=string>, 'location_in_query': <tf.Tensor 'location_in_query:0' shape=(None, 1) dtype=string>, 'platform': <tf.Tensor 'platform:0' shape=(None, 1) dtype=string>, 'campaign_state': <tf.Tensor 'campaign_state:0' shape=(None, 1) dtype=string>, 'in_city': <tf.Tensor 'in_city:0' shape=(None, 1) dtype=int64>, 'is_prime': <tf.Tensor 'is_prime:0' shape=(None, 1) dtype=int64>, 'is_hardship': <tf.Tensor 'is_hardship:0' shape=(None, 1) dtype=int64>, 'category_debt_type': <tf.Tensor 'category_debt_type:0' shape=(None, 1) dtype=string>, 'time_index': <tf.Tensor 'time_index:0' shape=(None, 1) dtype=float64>}\n",
            "Consider rewriting this model with the Functional API.\n",
            "WARNING:tensorflow:Layers in a Sequential model should only have a single input tensor, but we receive a <class 'dict'> input: {'created_date': <tf.Tensor 'created_date:0' shape=(None, 1) dtype=string>, 'location_in_query': <tf.Tensor 'location_in_query:0' shape=(None, 1) dtype=string>, 'platform': <tf.Tensor 'platform:0' shape=(None, 1) dtype=string>, 'campaign_state': <tf.Tensor 'campaign_state:0' shape=(None, 1) dtype=string>, 'in_city': <tf.Tensor 'in_city:0' shape=(None, 1) dtype=int64>, 'is_prime': <tf.Tensor 'is_prime:0' shape=(None, 1) dtype=int64>, 'is_hardship': <tf.Tensor 'is_hardship:0' shape=(None, 1) dtype=int64>, 'category_debt_type': <tf.Tensor 'category_debt_type:0' shape=(None, 1) dtype=string>, 'time_index': <tf.Tensor 'time_index:0' shape=(None, 1) dtype=float64>}\n",
            "Consider rewriting this model with the Functional API.\n",
            "WARNING:tensorflow:Layers in a Sequential model should only have a single input tensor, but we receive a <class 'dict'> input: {'created_date': <tf.Tensor 'created_date:0' shape=(None, 1) dtype=string>, 'location_in_query': <tf.Tensor 'location_in_query:0' shape=(None, 1) dtype=string>, 'platform': <tf.Tensor 'platform:0' shape=(None, 1) dtype=string>, 'campaign_state': <tf.Tensor 'campaign_state:0' shape=(None, 1) dtype=string>, 'in_city': <tf.Tensor 'in_city:0' shape=(None, 1) dtype=int64>, 'is_prime': <tf.Tensor 'is_prime:0' shape=(None, 1) dtype=int64>, 'is_hardship': <tf.Tensor 'is_hardship:0' shape=(None, 1) dtype=int64>, 'category_debt_type': <tf.Tensor 'category_debt_type:0' shape=(None, 1) dtype=string>, 'time_index': <tf.Tensor 'time_index:0' shape=(None, 1) dtype=float64>}\n",
            "Consider rewriting this model with the Functional API.\n",
            "WARNING:tensorflow:Layers in a Sequential model should only have a single input tensor, but we receive a <class 'dict'> input: {'created_date': <tf.Tensor 'inputs_2:0' shape=(None, 1) dtype=string>, 'location_in_query': <tf.Tensor 'inputs_6:0' shape=(None, 1) dtype=string>, 'platform': <tf.Tensor 'inputs_7:0' shape=(None, 1) dtype=string>, 'campaign_state': <tf.Tensor 'inputs:0' shape=(None, 1) dtype=string>, 'in_city': <tf.Tensor 'inputs_3:0' shape=(None, 1) dtype=int64>, 'is_prime': <tf.Tensor 'inputs_5:0' shape=(None, 1) dtype=int64>, 'is_hardship': <tf.Tensor 'inputs_4:0' shape=(None, 1) dtype=int64>, 'category_debt_type': <tf.Tensor 'inputs_1:0' shape=(None, 1) dtype=string>, 'time_index': <tf.Tensor 'inputs_8:0' shape=(None, 1) dtype=float64>}\n",
            "Consider rewriting this model with the Functional API.\n",
            "WARNING:tensorflow:Layers in a Sequential model should only have a single input tensor, but we receive a <class 'dict'> input: {'created_date': <tf.Tensor 'inputs_2:0' shape=(None, 1) dtype=string>, 'location_in_query': <tf.Tensor 'inputs_6:0' shape=(None, 1) dtype=string>, 'platform': <tf.Tensor 'inputs_7:0' shape=(None, 1) dtype=string>, 'campaign_state': <tf.Tensor 'inputs:0' shape=(None, 1) dtype=string>, 'in_city': <tf.Tensor 'inputs_3:0' shape=(None, 1) dtype=int64>, 'is_prime': <tf.Tensor 'inputs_5:0' shape=(None, 1) dtype=int64>, 'is_hardship': <tf.Tensor 'inputs_4:0' shape=(None, 1) dtype=int64>, 'category_debt_type': <tf.Tensor 'inputs_1:0' shape=(None, 1) dtype=string>, 'time_index': <tf.Tensor 'inputs_8:0' shape=(None, 1) dtype=float64>}\n",
            "Consider rewriting this model with the Functional API.\n",
            "WARNING:tensorflow:From /usr/local/lib/python3.6/dist-packages/tensorflow/python/training/tracking/tracking.py:111: Model.state_updates (from tensorflow.python.keras.engine.training) is deprecated and will be removed in a future version.\n",
            "Instructions for updating:\n",
            "This property should not be used in TensorFlow 2.0, as updates are applied automatically.\n",
            "WARNING:tensorflow:From /usr/local/lib/python3.6/dist-packages/tensorflow/python/training/tracking/tracking.py:111: Layer.updates (from tensorflow.python.keras.engine.base_layer) is deprecated and will be removed in a future version.\n",
            "Instructions for updating:\n",
            "This property should not be used in TensorFlow 2.0, as updates are applied automatically.\n",
            "WARNING:tensorflow:Layers in a Sequential model should only have a single input tensor, but we receive a <class 'dict'> input: {'created_date': <tf.Tensor 'inputs/created_date:0' shape=(None, 1) dtype=string>, 'location_in_query': <tf.Tensor 'inputs/location_in_query:0' shape=(None, 1) dtype=string>, 'platform': <tf.Tensor 'inputs/platform:0' shape=(None, 1) dtype=string>, 'campaign_state': <tf.Tensor 'inputs/campaign_state:0' shape=(None, 1) dtype=string>, 'in_city': <tf.Tensor 'inputs/in_city:0' shape=(None, 1) dtype=int64>, 'is_prime': <tf.Tensor 'inputs/is_prime:0' shape=(None, 1) dtype=int64>, 'is_hardship': <tf.Tensor 'inputs/is_hardship:0' shape=(None, 1) dtype=int64>, 'category_debt_type': <tf.Tensor 'inputs/category_debt_type:0' shape=(None, 1) dtype=string>, 'time_index': <tf.Tensor 'inputs/time_index:0' shape=(None, 1) dtype=float64>}\n",
            "Consider rewriting this model with the Functional API.\n",
            "WARNING:tensorflow:Layers in a Sequential model should only have a single input tensor, but we receive a <class 'dict'> input: {'created_date': <tf.Tensor 'inputs/created_date:0' shape=(None, 1) dtype=string>, 'location_in_query': <tf.Tensor 'inputs/location_in_query:0' shape=(None, 1) dtype=string>, 'platform': <tf.Tensor 'inputs/platform:0' shape=(None, 1) dtype=string>, 'campaign_state': <tf.Tensor 'inputs/campaign_state:0' shape=(None, 1) dtype=string>, 'in_city': <tf.Tensor 'inputs/in_city:0' shape=(None, 1) dtype=int64>, 'is_prime': <tf.Tensor 'inputs/is_prime:0' shape=(None, 1) dtype=int64>, 'is_hardship': <tf.Tensor 'inputs/is_hardship:0' shape=(None, 1) dtype=int64>, 'category_debt_type': <tf.Tensor 'inputs/category_debt_type:0' shape=(None, 1) dtype=string>, 'time_index': <tf.Tensor 'inputs/time_index:0' shape=(None, 1) dtype=float64>}\n",
            "Consider rewriting this model with the Functional API.\n",
            "INFO:tensorflow:Assets written to: drive/My Drive/ffn/model.tfm/assets\n"
          ],
          "name": "stdout"
        },
        {
          "output_type": "execute_result",
          "data": {
            "text/plain": [
              "{0: 0.75, 1: 1}"
            ]
          },
          "metadata": {
            "tags": []
          },
          "execution_count": 22
        }
      ]
    },
    {
      "cell_type": "markdown",
      "metadata": {
        "id": "1SBYG3Hv-cYp"
      },
      "source": [
        "## Model performance evaluation\n"
      ]
    },
    {
      "cell_type": "code",
      "metadata": {
        "id": "ssWPNe7O9fdB",
        "outputId": "f24dfc0c-35df-4d81-ffa0-513e438968f8",
        "colab": {
          "base_uri": "https://localhost:8080/",
          "height": 513
        }
      },
      "source": [
        "# load plotting modules\n",
        "import matplotlib\n",
        "import matplotlib.pyplot as plt\n",
        "\n",
        "# setting fonts for axes\n",
        "matplotlib.rcParams['figure.figsize'] = [24, 8] # width and height of figures\n",
        "\n",
        "font = {'family' : 'DejaVu Sans', # font\n",
        "        'weight' : 'bold',\n",
        "        'size'   : 16}\n",
        "matplotlib.rc('font', **font)\n",
        "\n",
        "colors = plt.rcParams['axes.prop_cycle'].by_key()['color']\n",
        "\n",
        "for n, metric in enumerate(metrics_names[0:3]):\n",
        "    name = metric.replace(\"_\",\" \").upper()\n",
        "    plt.subplot(1,3,n+1)\n",
        "    plt.plot(history.epoch,  history.history[metric], color=colors[0], label='train')\n",
        "    plt.plot(history.epoch, history.history['val_'+metric], color=colors[1], linestyle=\"-\", label='valid')\n",
        "    plt.xlabel('epoch')\n",
        "    plt.ylabel(name)\n",
        "    plt.ylim([0.4,0.85])\n",
        "    if metric == 'recall': plt.legend()"
      ],
      "execution_count": 31,
      "outputs": [
        {
          "output_type": "display_data",
          "data": {
            "image/png": "[encoded data removed]",
            "text/plain": [
              "<Figure size 1728x576 with 3 Axes>"
            ]
          },
          "metadata": {
            "tags": [],
            "needs_background": "light"
          }
        }
      ]
    }
  ]
}