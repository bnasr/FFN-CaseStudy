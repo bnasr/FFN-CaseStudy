{
  "nbformat": 4,
  "nbformat_minor": 0,
  "metadata": {
    "colab": {
      "name": "FFN Case Study.ipynb",
      "provenance": [],
      "collapsed_sections": []
    },
    "kernelspec": {
      "display_name": "Python 3",
      "name": "python3"
    }
  },
  "cells": [
    {
      "cell_type": "markdown",
      "metadata": {
        "id": "mcxUvTVOqSGb"
      },
      "source": [
        "# DS Growth Case Study\n",
        "\n",
        "## Context: \n",
        "A user is looking for loans on Google and enters a search query. Depending on how related the search query is to FFN business, we choose to bid for the query with the goal of maximizing the user impressions using Google Adwords (Google actually showing the ad to the user when they execute the search). This would lead to more clicks on ads, and potentially more signups, activations, and revenue. Here activation is defined as a user successfully contacted by FFN call center.\n",
        "\n",
        "## Questions:\n",
        "\n",
        "1.\tUsing the dataset attached ‘clicks-activation_v2.csv’, build a model to predict the probability of activation per click.\n",
        "\n",
        "2.\tPlease create a presentation using the following guidelines:\n",
        "  -\tDescribe the workflow steps (explicitly setting up the optimization problem and choice of objective function) and your hypothesis.\n",
        "  -\tEvaluate the performance of the model (pre-production)?\n",
        "  -\tWhat are some of the shortcomings of this approach?\n",
        "  -\tWhat are some other features you might need to come up with a better model?\n",
        "\n",
        "3.\tWhat does the engineering architecture to productionize one of the solutions looks like? What trade-offs would you use to productionize promising algorithms faster?\n",
        "\n",
        "4.\tDiscuss how will you analyze the business performance of the algorithm once in production using metrics such as marketing ROI etc.?\n",
        "\n",
        "Each of the four parts above carry equal weightage in evaluation. We don’t think you need to spend more than 3 hours on the overall exercise (please feel free to take more time if you want). If you have questions please contact: azajic@freedomfinancialnetwork.com\n",
        "\n",
        "## Data Dictionary:\n",
        "\n",
        "1.\tcreated_date - date on which the click was recorded\n",
        "2.\tlocation_in_query - city name that appeared in search query\n",
        "3.\tplatform - platform such as web/mobile\n",
        "4.\tcampaign_state - US state where the ad campaign was run\n",
        "5.\tin_city - whether the ad campaign was run in a city or not\n",
        "6.\tis_prime - whether the word fico prime appeared in the search query\n",
        "7.\tis_hardship - whether the word hardship appeared in the search query\n",
        "8.\tcategory_debt_type - type of debt solution that appeared in the search query\n",
        "9.\t[TARGET] is_activated – whether the user talked to FFN call center or not\n"
      ]
    },
    {
      "cell_type": "markdown",
      "metadata": {
        "id": "vy1wm1mtaMwB"
      },
      "source": [
        "# Loading required modules"
      ]
    },
    {
      "cell_type": "code",
      "metadata": {
        "id": "9_Bikq0nVhQG"
      },
      "source": [
        "import numpy as np\n",
        "import pandas as pd\n",
        "\n",
        "import tensorflow as tf\n",
        "\n",
        "from tensorflow import feature_column\n",
        "from tensorflow.keras import layers\n",
        "from sklearn.model_selection import train_test_split\n",
        "from sklearn.preprocessing import MinMaxScaler"
      ],
      "execution_count": 55,
      "outputs": []
    },
    {
      "cell_type": "markdown",
      "metadata": {
        "id": "Ni7nmZoAp8G_"
      },
      "source": [
        "# Loading the data\n",
        "Let's load the data file as Pandas DateFrame:"
      ]
    },
    {
      "cell_type": "code",
      "metadata": {
        "id": "p4ohKgfSVl91",
        "outputId": "70d87e1b-58af-4aeb-e35b-1534a7d4a3c6",
        "colab": {
          "base_uri": "https://localhost:8080/",
          "height": 0
        }
      },
      "source": [
        "#loading the data\n",
        "clicks = pd.read_csv('drive/My Drive/ffn/data/clicks-activation_v2.csv')\n",
        "\n",
        "#creating a new column for time as integer\n",
        "clicks['time_index'] = pd.to_datetime(clicks['created_date']).astype(int)\n",
        "\n",
        "#printing data types for each columns\n",
        "print(clicks.dtypes, '\\n')\n",
        "\n",
        "#printing info summary\n",
        "print(clicks.info(), '\\n')\n",
        "\n",
        "#printing first few rows\n",
        "clicks.head()"
      ],
      "execution_count": 56,
      "outputs": [
        {
          "output_type": "stream",
          "text": [
            "created_date          object\n",
            "location_in_query     object\n",
            "platform              object\n",
            "campaign_state        object\n",
            "in_city                int64\n",
            "is_prime               int64\n",
            "is_hardship            int64\n",
            "is_activated            bool\n",
            "category_debt_type    object\n",
            "time_index             int64\n",
            "dtype: object \n",
            "\n",
            "<class 'pandas.core.frame.DataFrame'>\n",
            "RangeIndex: 94194 entries, 0 to 94193\n",
            "Data columns (total 10 columns):\n",
            " #   Column              Non-Null Count  Dtype \n",
            "---  ------              --------------  ----- \n",
            " 0   created_date        94194 non-null  object\n",
            " 1   location_in_query   94179 non-null  object\n",
            " 2   platform            94194 non-null  object\n",
            " 3   campaign_state      94188 non-null  object\n",
            " 4   in_city             94194 non-null  int64 \n",
            " 5   is_prime            94194 non-null  int64 \n",
            " 6   is_hardship         94194 non-null  int64 \n",
            " 7   is_activated        94194 non-null  bool  \n",
            " 8   category_debt_type  84335 non-null  object\n",
            " 9   time_index          94194 non-null  int64 \n",
            "dtypes: bool(1), int64(4), object(5)\n",
            "memory usage: 6.6+ MB\n",
            "None \n",
            "\n"
          ],
          "name": "stdout"
        },
        {
          "output_type": "execute_result",
          "data": {
            "text/html": [
              "<div>\n",
              "<style scoped>\n",
              "    .dataframe tbody tr th:only-of-type {\n",
              "        vertical-align: middle;\n",
              "    }\n",
              "\n",
              "    .dataframe tbody tr th {\n",
              "        vertical-align: top;\n",
              "    }\n",
              "\n",
              "    .dataframe thead th {\n",
              "        text-align: right;\n",
              "    }\n",
              "</style>\n",
              "<table border=\"1\" class=\"dataframe\">\n",
              "  <thead>\n",
              "    <tr style=\"text-align: right;\">\n",
              "      <th></th>\n",
              "      <th>created_date</th>\n",
              "      <th>location_in_query</th>\n",
              "      <th>platform</th>\n",
              "      <th>campaign_state</th>\n",
              "      <th>in_city</th>\n",
              "      <th>is_prime</th>\n",
              "      <th>is_hardship</th>\n",
              "      <th>is_activated</th>\n",
              "      <th>category_debt_type</th>\n",
              "      <th>time_index</th>\n",
              "    </tr>\n",
              "  </thead>\n",
              "  <tbody>\n",
              "    <tr>\n",
              "      <th>0</th>\n",
              "      <td>12/27/2017</td>\n",
              "      <td>san antonio</td>\n",
              "      <td>mobile web</td>\n",
              "      <td>tx</td>\n",
              "      <td>1</td>\n",
              "      <td>0</td>\n",
              "      <td>0</td>\n",
              "      <td>True</td>\n",
              "      <td>debt_settlement</td>\n",
              "      <td>1514332800000000000</td>\n",
              "    </tr>\n",
              "    <tr>\n",
              "      <th>1</th>\n",
              "      <td>1/10/2018</td>\n",
              "      <td>honolulu</td>\n",
              "      <td>mobile web</td>\n",
              "      <td>hi</td>\n",
              "      <td>0</td>\n",
              "      <td>0</td>\n",
              "      <td>0</td>\n",
              "      <td>False</td>\n",
              "      <td>debt_settlement</td>\n",
              "      <td>1515542400000000000</td>\n",
              "    </tr>\n",
              "    <tr>\n",
              "      <th>2</th>\n",
              "      <td>12/15/2017</td>\n",
              "      <td>atlanta</td>\n",
              "      <td>desktop web</td>\n",
              "      <td>ga</td>\n",
              "      <td>1</td>\n",
              "      <td>0</td>\n",
              "      <td>0</td>\n",
              "      <td>True</td>\n",
              "      <td>debt_settlement</td>\n",
              "      <td>1513296000000000000</td>\n",
              "    </tr>\n",
              "    <tr>\n",
              "      <th>3</th>\n",
              "      <td>1/6/2018</td>\n",
              "      <td>honolulu</td>\n",
              "      <td>mobile web</td>\n",
              "      <td>hi</td>\n",
              "      <td>0</td>\n",
              "      <td>0</td>\n",
              "      <td>0</td>\n",
              "      <td>False</td>\n",
              "      <td>debt_settlement</td>\n",
              "      <td>1515196800000000000</td>\n",
              "    </tr>\n",
              "    <tr>\n",
              "      <th>4</th>\n",
              "      <td>12/20/2017</td>\n",
              "      <td>South Beachmi</td>\n",
              "      <td>mobile web</td>\n",
              "      <td>fl</td>\n",
              "      <td>0</td>\n",
              "      <td>0</td>\n",
              "      <td>0</td>\n",
              "      <td>False</td>\n",
              "      <td>cash_loan</td>\n",
              "      <td>1513728000000000000</td>\n",
              "    </tr>\n",
              "  </tbody>\n",
              "</table>\n",
              "</div>"
            ],
            "text/plain": [
              "  created_date location_in_query  ... category_debt_type           time_index\n",
              "0   12/27/2017       san antonio  ...    debt_settlement  1514332800000000000\n",
              "1    1/10/2018          honolulu  ...    debt_settlement  1515542400000000000\n",
              "2   12/15/2017           atlanta  ...    debt_settlement  1513296000000000000\n",
              "3     1/6/2018          honolulu  ...    debt_settlement  1515196800000000000\n",
              "4   12/20/2017     South Beachmi  ...          cash_loan  1513728000000000000\n",
              "\n",
              "[5 rows x 10 columns]"
            ]
          },
          "metadata": {
            "tags": []
          },
          "execution_count": 56
        }
      ]
    },
    {
      "cell_type": "markdown",
      "metadata": {
        "id": "tPPwozZleIPE"
      },
      "source": [
        "Replace boolean values with integer 0 or 1."
      ]
    },
    {
      "cell_type": "code",
      "metadata": {
        "id": "jsMqd7btoWyl"
      },
      "source": [
        "# replacing boolean values with integer 0 or 1\n",
        "clicks['is_activated'] = np.where(clicks['is_activated']==True, 0, 1)"
      ],
      "execution_count": 57,
      "outputs": []
    },
    {
      "cell_type": "code",
      "metadata": {
        "id": "eHyiAXHJJxIO",
        "outputId": "342f6ba9-425b-431b-97a3-78e0c59c6b55",
        "colab": {
          "base_uri": "https://localhost:8080/"
        }
      },
      "source": [
        "# check counts per class\n",
        "clicks.is_activated.value_counts()"
      ],
      "execution_count": 58,
      "outputs": [
        {
          "output_type": "execute_result",
          "data": {
            "text/plain": [
              "1    87407\n",
              "0     6787\n",
              "Name: is_activated, dtype: int64"
            ]
          },
          "metadata": {
            "tags": []
          },
          "execution_count": 58
        }
      ]
    },
    {
      "cell_type": "markdown",
      "metadata": {
        "id": "fL2EUIgA5UES"
      },
      "source": [
        "As shown above there are missing values in different columns. We can take a closer look at the statistics  using the below command."
      ]
    },
    {
      "cell_type": "code",
      "metadata": {
        "id": "AWuFLjeK5SrD",
        "outputId": "ddc1b322-7c71-4673-d7ad-b3c3cdfba692",
        "colab": {
          "base_uri": "https://localhost:8080/"
        }
      },
      "source": [
        "print(clicks.isnull().sum())"
      ],
      "execution_count": 59,
      "outputs": [
        {
          "output_type": "stream",
          "text": [
            "created_date             0\n",
            "location_in_query       15\n",
            "platform                 0\n",
            "campaign_state           6\n",
            "in_city                  0\n",
            "is_prime                 0\n",
            "is_hardship              0\n",
            "is_activated             0\n",
            "category_debt_type    9859\n",
            "time_index               0\n",
            "dtype: int64\n"
          ],
          "name": "stdout"
        }
      ]
    },
    {
      "cell_type": "markdown",
      "metadata": {
        "id": "ERVTLJd5x7lS"
      },
      "source": [
        "# Incorporating Date and Time\n",
        "I use time/date as two main features: 1) as a categorical variable 2) as a continuous normalized number"
      ]
    },
    {
      "cell_type": "code",
      "metadata": {
        "id": "gcIpAy6jx6ru"
      },
      "source": [
        "scaler = MinMaxScaler()\n",
        "clicks[['time_index']] = scaler.fit_transform(clicks[['time_index']])\n"
      ],
      "execution_count": 60,
      "outputs": []
    },
    {
      "cell_type": "markdown",
      "metadata": {
        "id": "sByCN3q_8Ssy"
      },
      "source": [
        "# Imputation\n",
        "There are missing values in three categorical columns that should be imputed: `location_in_query`, `campaign_state`, and `category_debt_type`."
      ]
    },
    {
      "cell_type": "code",
      "metadata": {
        "id": "8DFo9-Fn8UCB",
        "outputId": "d3822d31-f49f-44b2-a5f3-ff6d4162368e",
        "colab": {
          "base_uri": "https://localhost:8080/"
        }
      },
      "source": [
        "states = ['al', 'ak', 'az', 'ar', 'ca', 'co', 'ct', 'dc', 'de', 'fl', 'ga', 'hi', \n",
        "          'id', 'il', 'in', 'ia', 'ks', 'ky', 'la', 'me', 'md', 'ma', 'mi', 'mn',\n",
        "          'ms', 'mo', 'mt', 'ne', 'nv', 'nh', 'nj', 'nm', 'ny', 'nc', 'nd', 'oh',\n",
        "          'ok', 'or', 'pa', 'ri', 'sc', 'sd', 'tn', 'tx', 'ut', 'vt', 'va', 'wa', \n",
        "          'wv', 'wi', 'wy']\n",
        "\n",
        "# also imputing states where the value is a number\n",
        "clicks.loc[~clicks['campaign_state'].isin(states),'campaign_state'] = np.nan\n",
        "\n",
        "#imputing campaign_state with the most frequent state\n",
        "clicks['campaign_state'].fillna(clicks['campaign_state'].mode()[0], inplace = True)\n",
        "\n",
        "#imputing location_in_query with the unknown_location\n",
        "clicks['location_in_query'].fillna('unknown_location', inplace = True)\n",
        "\n",
        "#imputing category_debt_type with the most frequent value\n",
        "clicks['category_debt_type'].fillna(clicks['category_debt_type'].mode()[0], inplace = True)\n",
        "\n",
        "print(clicks.isnull().sum())"
      ],
      "execution_count": 61,
      "outputs": [
        {
          "output_type": "stream",
          "text": [
            "created_date          0\n",
            "location_in_query     0\n",
            "platform              0\n",
            "campaign_state        0\n",
            "in_city               0\n",
            "is_prime              0\n",
            "is_hardship           0\n",
            "is_activated          0\n",
            "category_debt_type    0\n",
            "time_index            0\n",
            "dtype: int64\n"
          ],
          "name": "stdout"
        }
      ]
    },
    {
      "cell_type": "markdown",
      "metadata": {
        "id": "fy0_gJB9QLfs"
      },
      "source": [
        "# Balance the data\n",
        "As the training data is imbalanced, we need to adjust the number of positive vs negaive labels. "
      ]
    },
    {
      "cell_type": "code",
      "metadata": {
        "id": "NIJAhYUcQMTQ",
        "outputId": "6cd1712e-3393-424b-f839-af458919ead5",
        "colab": {
          "base_uri": "https://localhost:8080/"
        }
      },
      "source": [
        "from sklearn.utils import resample\n",
        "\n",
        "data = clicks.copy()\n",
        "\n",
        "#check the length of each class\n",
        "print('oringal data class size:\\n',data.is_activated.value_counts(), '\\n')\n",
        "\n",
        "#creating subsets\n",
        "data_not_activated = data[np.array(data.is_activated) == 0]\n",
        "data_activated = data[np.array(data.is_activated) == 1]\n",
        "\n",
        "#upsampling of the minorty class\n",
        "n_samples = len(data_activated)\n",
        "\n",
        "#downsampling of the minorty class\n",
        "#n_samples = len(data_not_activated)\n",
        "\n",
        "data_not_activated_resampled = resample(data_not_activated, n_samples = n_samples, random_state = 0)\n",
        "data_activated_resampled = resample(data_activated, n_samples = n_samples, random_state = 0)\n",
        "\n",
        "#merged data back together\n",
        "data_resampled = pd.concat([data_not_activated_resampled, data_activated_resampled])\n",
        "\n",
        "#shuffle the data\n",
        "data_resampled = data_resampled.sample(frac = 1) \n",
        "\n",
        "#check the final stats\n",
        "print('resampled data class size:\\n', data_resampled.is_activated.value_counts())"
      ],
      "execution_count": 62,
      "outputs": [
        {
          "output_type": "stream",
          "text": [
            "oringal data class size:\n",
            " 1    87407\n",
            "0     6787\n",
            "Name: is_activated, dtype: int64 \n",
            "\n",
            "resampled data class size:\n",
            " 1    87407\n",
            "0    87407\n",
            "Name: is_activated, dtype: int64\n"
          ],
          "name": "stdout"
        }
      ]
    },
    {
      "cell_type": "markdown",
      "metadata": {
        "id": "33DmvIBctJM4"
      },
      "source": [
        "# Split the Data \n",
        "One important step is always to split the data into train, validation and test. We accomplish this by the two times running the train_test_split function from sklearn."
      ]
    },
    {
      "cell_type": "code",
      "metadata": {
        "id": "VPtH1FtJWDog",
        "outputId": "1033f765-e28e-4e44-a656-af9e90a03b1a",
        "colab": {
          "base_uri": "https://localhost:8080/"
        }
      },
      "source": [
        "# splitting the data\n",
        "\n",
        "# the test data will be used only after the model is trained\n",
        "train_valid, test = train_test_split(data_resampled, test_size = 0.2, shuffle = True) \n",
        "\n",
        "# the valid data will be used during the training but not for the training, only for evaluations per epoch\n",
        "train, valid = train_test_split(train_valid, test_size = 0.25, shuffle = True) \n",
        "\n",
        "#printig their length\n",
        "print('training data size:', len(train))\n",
        "print('validation data size:', len(valid))\n",
        "print('testing data size:', len(test))"
      ],
      "execution_count": 63,
      "outputs": [
        {
          "output_type": "stream",
          "text": [
            "training data size: 104888\n",
            "validation data size: 34963\n",
            "testing data size: 34963\n"
          ],
          "name": "stdout"
        }
      ]
    },
    {
      "cell_type": "markdown",
      "metadata": {
        "id": "PKqkkM0FHm9-"
      },
      "source": [
        "# Creating TensorFlow Ready Datasets\n",
        "To prepare the input data for the TensorFlow data pipeline, we need to put to in sliced batches.\n",
        "\n",
        "---\n",
        "\n"
      ]
    },
    {
      "cell_type": "code",
      "metadata": {
        "id": "pQcif9mbu8lj"
      },
      "source": [
        "def create_dataset(data, batch_size=1024):\n",
        "  df = data.copy()\n",
        "  labels = df.pop('is_activated')\n",
        "  \n",
        "  dataset = tf.data.Dataset.from_tensor_slices((dict(df), labels))\n",
        "\n",
        "  # shuffle the dataset\n",
        "  dataset = dataset.shuffle(buffer_size=len(df))\n",
        "\n",
        "  dataset = dataset.batch(batch_size)\n",
        "  return dataset\n"
      ],
      "execution_count": 64,
      "outputs": []
    },
    {
      "cell_type": "code",
      "metadata": {
        "id": "R4fAUARdwtyZ"
      },
      "source": [
        "train_data = create_dataset(train)\n",
        "val_data = create_dataset(valid)\n",
        "test_data = create_dataset(test)"
      ],
      "execution_count": 65,
      "outputs": []
    },
    {
      "cell_type": "markdown",
      "metadata": {
        "id": "zdlShm_XXNV3"
      },
      "source": [
        "# Feature Columns\n",
        "To create the list of what feature to put in the model, we use the `feature_column` module from `TensorFlow`."
      ]
    },
    {
      "cell_type": "code",
      "metadata": {
        "id": "xDQo7ggnYDzE",
        "outputId": "1f712117-04d2-467b-f6bc-2c08ce1c1d18",
        "colab": {
          "base_uri": "https://localhost:8080/"
        }
      },
      "source": [
        "# check each variable's number of unique values\n",
        "for i in clicks.columns:\n",
        "  print(i, len(clicks[i].unique()), clicks[i].dtype)  "
      ],
      "execution_count": 66,
      "outputs": [
        {
          "output_type": "stream",
          "text": [
            "created_date 32 object\n",
            "location_in_query 797 object\n",
            "platform 3 object\n",
            "campaign_state 43 object\n",
            "in_city 2 int64\n",
            "is_prime 2 int64\n",
            "is_hardship 2 int64\n",
            "is_activated 2 int64\n",
            "category_debt_type 4 object\n",
            "time_index 32 float64\n"
          ],
          "name": "stdout"
        }
      ]
    },
    {
      "cell_type": "code",
      "metadata": {
        "id": "mlZutCcGbzyS",
        "outputId": "2f12410f-56a0-48ee-c9e9-070d8aeda488",
        "colab": {
          "base_uri": "https://localhost:8080/"
        }
      },
      "source": [
        "# check for errors\n",
        "clicks.platform.unique()"
      ],
      "execution_count": 67,
      "outputs": [
        {
          "output_type": "execute_result",
          "data": {
            "text/plain": [
              "array(['mobile web', 'desktop web', 'undefined platform'], dtype=object)"
            ]
          },
          "metadata": {
            "tags": []
          },
          "execution_count": 67
        }
      ]
    },
    {
      "cell_type": "code",
      "metadata": {
        "id": "dxBl9RB32JN9"
      },
      "source": [
        "from tensorflow import feature_column\n",
        "\n",
        "feature_columns = []\n",
        "\n",
        "#first numerical columns\n",
        "for col_name in ['in_city', 'is_prime', 'is_hardship', 'time_index']:\n",
        "  feature_columns.append(feature_column.numeric_column(col_name))\n",
        "\n",
        "# indicator columns\n",
        "indicator_column_names = ['platform', 'category_debt_type']\n",
        "for col_name in indicator_column_names:\n",
        "  categorical_column = feature_column.categorical_column_with_vocabulary_list(col_name, clicks[col_name].unique())\n",
        "  indicator_column = feature_column.indicator_column(categorical_column)\n",
        "  feature_columns.append(indicator_column)\n",
        "\n",
        "# embedding cateogorical columns\n",
        "embeding_columns = ['created_date', 'campaign_state']\n",
        "for col_name in embeding_columns:\n",
        "  vocab = clicks[col_name].unique()\n",
        "  categorical_column = feature_column.categorical_column_with_vocabulary_list(col_name, vocab)\n",
        "  column_embedding = feature_column.embedding_column(categorical_column, dimension= 10)#int(len(vocab) *.3))\n",
        "  feature_columns.append(column_embedding)\n",
        "  \n",
        "# crossed columns\n",
        "campaign_state = feature_column.categorical_column_with_vocabulary_list('campaign_state', clicks.campaign_state.unique())\n",
        "location_in_query = feature_column.categorical_column_with_vocabulary_list('location_in_query', clicks.location_in_query.unique())\n",
        "state_location = feature_column.crossed_column([campaign_state, location_in_query], hash_bucket_size=500)\n",
        "feature_columns.append(feature_column.indicator_column(state_location))"
      ],
      "execution_count": 68,
      "outputs": []
    },
    {
      "cell_type": "markdown",
      "metadata": {
        "id": "VUZJXlg5BQGN"
      },
      "source": [
        "# Model\n",
        "I used a neural network model with four main layers:\n",
        "- An input layer of all features\n",
        "- A dense layer of 1024 neurons with 50% dropout and ‘ReLU’ activation\n",
        "- A dense layer of 128 neurons with 50% dropout and ‘ReLU’ activation\n",
        "- A final single neuron layer of outputs with ‘sigmoid’ activation\n"
      ]
    },
    {
      "cell_type": "code",
      "metadata": {
        "id": "dJoQGsPvXjxq"
      },
      "source": [
        "model = tf.keras.Sequential()\n",
        "\n",
        "model.add(layers.DenseFeatures(feature_columns))\n",
        "\n",
        "model.add(layers.Dense(1024, activation='relu'))\n",
        "model.add(layers.Dropout(0.5))\n",
        "\n",
        "model.add(layers.Dense(128, activation='relu'))\n",
        "model.add(layers.Dropout(0.5))\n",
        "\n",
        "model.add(layers.Dense(1, activation='sigmoid'))\n"
      ],
      "execution_count": 69,
      "outputs": []
    },
    {
      "cell_type": "markdown",
      "metadata": {
        "id": "aQttFSVVey0e"
      },
      "source": [
        "I used four main metrics for our binary classification."
      ]
    },
    {
      "cell_type": "code",
      "metadata": {
        "id": "Xi_LwJamlbbq"
      },
      "source": [
        "# four main metrics for our binary classification.\n",
        "metrics = [\n",
        "      tf.keras.metrics.BinaryAccuracy(name='accuracy'),\n",
        "      tf.keras.metrics.AUC(name='auc'),\n",
        "      tf.keras.metrics.Precision(name='precision'),\n",
        "      tf.keras.metrics.Recall(name='recall'),\n",
        "]\n",
        "\n",
        "metrics_names =  ['loss','accuracy', 'auc', 'precision', 'recall']"
      ],
      "execution_count": 70,
      "outputs": []
    },
    {
      "cell_type": "markdown",
      "metadata": {
        "id": "f2spvXtQe3L-"
      },
      "source": [
        "- I used the binary cross entropy function as my loss function that should be optimized.\n",
        "\n",
        "- Because this is a binary classification, the Adam (Adaptive Moment Estimation) optimizer function should perform better than the generic SGD (Stochastic Gradient Descent).\n",
        "\n",
        "- After tuning the 0.001 learning rate showed a reasonable performance\n"
      ]
    },
    {
      "cell_type": "code",
      "metadata": {
        "id": "vYuAQaR0fp4O"
      },
      "source": [
        "#model being compiled\n",
        "model.compile(optimizer = tf.keras.optimizers.Adam(learning_rate= 0.001),\n",
        "              loss = tf.keras.losses.BinaryCrossentropy(),\n",
        "              metrics = metrics)"
      ],
      "execution_count": 71,
      "outputs": []
    },
    {
      "cell_type": "code",
      "metadata": {
        "id": "0-IOgQn_1l3S",
        "outputId": "de1a8987-c089-470c-d299-e6d7e6b429a6",
        "colab": {
          "base_uri": "https://localhost:8080/"
        }
      },
      "source": [
        "class_weight = {1: 1,\n",
        "                0: 0.75}\n",
        "\n",
        "history = model.fit(train_data,\n",
        "                    validation_data = val_data, \n",
        "                    class_weight = class_weight,\n",
        "                    epochs=200)"
      ],
      "execution_count": 72,
      "outputs": [
        {
          "output_type": "stream",
          "text": [
            "Epoch 1/200\n",
            "WARNING:tensorflow:Layers in a Sequential model should only have a single input tensor, but we receive a <class 'dict'> input: {'created_date': <tf.Tensor 'ExpandDims_2:0' shape=(None, 1) dtype=string>, 'location_in_query': <tf.Tensor 'ExpandDims_6:0' shape=(None, 1) dtype=string>, 'platform': <tf.Tensor 'ExpandDims_7:0' shape=(None, 1) dtype=string>, 'campaign_state': <tf.Tensor 'ExpandDims:0' shape=(None, 1) dtype=string>, 'in_city': <tf.Tensor 'ExpandDims_3:0' shape=(None, 1) dtype=int64>, 'is_prime': <tf.Tensor 'ExpandDims_5:0' shape=(None, 1) dtype=int64>, 'is_hardship': <tf.Tensor 'ExpandDims_4:0' shape=(None, 1) dtype=int64>, 'category_debt_type': <tf.Tensor 'ExpandDims_1:0' shape=(None, 1) dtype=string>, 'time_index': <tf.Tensor 'ExpandDims_8:0' shape=(None, 1) dtype=float64>}\n",
            "Consider rewriting this model with the Functional API.\n",
            "WARNING:tensorflow:Layer dense_features_1 is casting an input tensor from dtype float64 to the layer's dtype of float32, which is new behavior in TensorFlow 2.  The layer has dtype float32 because its dtype defaults to floatx.\n",
            "\n",
            "If you intended to run this layer in float32, you can safely ignore this warning. If in doubt, this warning is likely only an issue if you are porting a TensorFlow 1.X model to TensorFlow 2.\n",
            "\n",
            "To change all layers to have dtype float64 by default, call `tf.keras.backend.set_floatx('float64')`. To change just this layer, pass dtype='float64' to the layer constructor. If you are the author of this layer, you can disable autocasting by passing autocast=False to the base Layer constructor.\n",
            "\n",
            "WARNING:tensorflow:Layers in a Sequential model should only have a single input tensor, but we receive a <class 'dict'> input: {'created_date': <tf.Tensor 'ExpandDims_2:0' shape=(None, 1) dtype=string>, 'location_in_query': <tf.Tensor 'ExpandDims_6:0' shape=(None, 1) dtype=string>, 'platform': <tf.Tensor 'ExpandDims_7:0' shape=(None, 1) dtype=string>, 'campaign_state': <tf.Tensor 'ExpandDims:0' shape=(None, 1) dtype=string>, 'in_city': <tf.Tensor 'ExpandDims_3:0' shape=(None, 1) dtype=int64>, 'is_prime': <tf.Tensor 'ExpandDims_5:0' shape=(None, 1) dtype=int64>, 'is_hardship': <tf.Tensor 'ExpandDims_4:0' shape=(None, 1) dtype=int64>, 'category_debt_type': <tf.Tensor 'ExpandDims_1:0' shape=(None, 1) dtype=string>, 'time_index': <tf.Tensor 'ExpandDims_8:0' shape=(None, 1) dtype=float64>}\n",
            "Consider rewriting this model with the Functional API.\n",
            "103/103 [==============================] - ETA: 0s - loss: 0.5775 - accuracy: 0.5530 - auc: 0.6105 - precision: 0.5347 - recall: 0.8013WARNING:tensorflow:Layers in a Sequential model should only have a single input tensor, but we receive a <class 'dict'> input: {'created_date': <tf.Tensor 'ExpandDims_2:0' shape=(None, 1) dtype=string>, 'location_in_query': <tf.Tensor 'ExpandDims_6:0' shape=(None, 1) dtype=string>, 'platform': <tf.Tensor 'ExpandDims_7:0' shape=(None, 1) dtype=string>, 'campaign_state': <tf.Tensor 'ExpandDims:0' shape=(None, 1) dtype=string>, 'in_city': <tf.Tensor 'ExpandDims_3:0' shape=(None, 1) dtype=int64>, 'is_prime': <tf.Tensor 'ExpandDims_5:0' shape=(None, 1) dtype=int64>, 'is_hardship': <tf.Tensor 'ExpandDims_4:0' shape=(None, 1) dtype=int64>, 'category_debt_type': <tf.Tensor 'ExpandDims_1:0' shape=(None, 1) dtype=string>, 'time_index': <tf.Tensor 'ExpandDims_8:0' shape=(None, 1) dtype=float64>}\n",
            "Consider rewriting this model with the Functional API.\n",
            "103/103 [==============================] - 13s 124ms/step - loss: 0.5775 - accuracy: 0.5530 - auc: 0.6105 - precision: 0.5347 - recall: 0.8013 - val_loss: 0.6704 - val_accuracy: 0.5657 - val_auc: 0.6441 - val_precision: 0.5431 - val_recall: 0.8620\n",
            "Epoch 2/200\n",
            "103/103 [==============================] - 12s 118ms/step - loss: 0.5622 - accuracy: 0.5860 - auc: 0.6506 - precision: 0.5633 - recall: 0.7581 - val_loss: 0.6521 - val_accuracy: 0.5991 - val_auc: 0.6687 - val_precision: 0.5743 - val_recall: 0.7845\n",
            "Epoch 3/200\n",
            "103/103 [==============================] - 12s 119ms/step - loss: 0.5488 - accuracy: 0.6075 - auc: 0.6780 - precision: 0.5835 - recall: 0.7454 - val_loss: 0.6334 - val_accuracy: 0.6245 - val_auc: 0.6900 - val_precision: 0.6090 - val_recall: 0.7082\n",
            "Epoch 4/200\n",
            "103/103 [==============================] - 12s 119ms/step - loss: 0.5339 - accuracy: 0.6273 - auc: 0.7035 - precision: 0.6023 - recall: 0.7447 - val_loss: 0.6125 - val_accuracy: 0.6480 - val_auc: 0.7223 - val_precision: 0.6310 - val_recall: 0.7232\n",
            "Epoch 5/200\n",
            "103/103 [==============================] - 12s 120ms/step - loss: 0.5202 - accuracy: 0.6467 - auc: 0.7245 - precision: 0.6227 - recall: 0.7407 - val_loss: 0.5968 - val_accuracy: 0.6538 - val_auc: 0.7386 - val_precision: 0.6309 - val_recall: 0.7513\n",
            "Epoch 6/200\n",
            "103/103 [==============================] - 12s 119ms/step - loss: 0.5060 - accuracy: 0.6599 - auc: 0.7437 - precision: 0.6346 - recall: 0.7506 - val_loss: 0.5831 - val_accuracy: 0.6630 - val_auc: 0.7550 - val_precision: 0.6346 - val_recall: 0.7780\n",
            "Epoch 7/200\n",
            "103/103 [==============================] - 12s 119ms/step - loss: 0.4960 - accuracy: 0.6658 - auc: 0.7544 - precision: 0.6382 - recall: 0.7624 - val_loss: 0.5689 - val_accuracy: 0.6767 - val_auc: 0.7665 - val_precision: 0.6546 - val_recall: 0.7564\n",
            "Epoch 8/200\n",
            "103/103 [==============================] - 12s 119ms/step - loss: 0.4868 - accuracy: 0.6738 - auc: 0.7651 - precision: 0.6465 - recall: 0.7639 - val_loss: 0.5615 - val_accuracy: 0.6772 - val_auc: 0.7719 - val_precision: 0.6511 - val_recall: 0.7720\n",
            "Epoch 9/200\n",
            "103/103 [==============================] - 12s 119ms/step - loss: 0.4809 - accuracy: 0.6761 - auc: 0.7711 - precision: 0.6472 - recall: 0.7710 - val_loss: 0.5548 - val_accuracy: 0.6794 - val_auc: 0.7781 - val_precision: 0.6503 - val_recall: 0.7843\n",
            "Epoch 10/200\n",
            "103/103 [==============================] - 12s 119ms/step - loss: 0.4754 - accuracy: 0.6820 - auc: 0.7767 - precision: 0.6541 - recall: 0.7698 - val_loss: 0.5507 - val_accuracy: 0.6804 - val_auc: 0.7810 - val_precision: 0.6508 - val_recall: 0.7868\n",
            "Epoch 11/200\n",
            "103/103 [==============================] - 12s 119ms/step - loss: 0.4691 - accuracy: 0.6865 - auc: 0.7837 - precision: 0.6568 - recall: 0.7784 - val_loss: 0.5478 - val_accuracy: 0.6815 - val_auc: 0.7857 - val_precision: 0.6481 - val_recall: 0.8027\n",
            "Epoch 12/200\n",
            "103/103 [==============================] - 12s 119ms/step - loss: 0.4661 - accuracy: 0.6881 - auc: 0.7860 - precision: 0.6593 - recall: 0.7758 - val_loss: 0.5448 - val_accuracy: 0.6798 - val_auc: 0.7899 - val_precision: 0.6402 - val_recall: 0.8296\n",
            "Epoch 13/200\n",
            "103/103 [==============================] - 12s 119ms/step - loss: 0.4612 - accuracy: 0.6916 - auc: 0.7915 - precision: 0.6609 - recall: 0.7845 - val_loss: 0.5338 - val_accuracy: 0.6954 - val_auc: 0.7940 - val_precision: 0.6721 - val_recall: 0.7704\n",
            "Epoch 14/200\n",
            "103/103 [==============================] - 12s 119ms/step - loss: 0.4588 - accuracy: 0.6938 - auc: 0.7936 - precision: 0.6645 - recall: 0.7803 - val_loss: 0.5326 - val_accuracy: 0.6948 - val_auc: 0.7972 - val_precision: 0.6658 - val_recall: 0.7898\n",
            "Epoch 15/200\n",
            "103/103 [==============================] - 12s 119ms/step - loss: 0.4549 - accuracy: 0.6951 - auc: 0.7975 - precision: 0.6643 - recall: 0.7860 - val_loss: 0.5276 - val_accuracy: 0.6976 - val_auc: 0.8000 - val_precision: 0.6681 - val_recall: 0.7925\n",
            "Epoch 16/200\n",
            "103/103 [==============================] - 12s 119ms/step - loss: 0.4526 - accuracy: 0.6987 - auc: 0.7997 - precision: 0.6683 - recall: 0.7864 - val_loss: 0.5266 - val_accuracy: 0.6991 - val_auc: 0.8005 - val_precision: 0.6725 - val_recall: 0.7829\n",
            "Epoch 17/200\n",
            "103/103 [==============================] - 12s 119ms/step - loss: 0.4505 - accuracy: 0.7004 - auc: 0.8017 - precision: 0.6711 - recall: 0.7835 - val_loss: 0.5240 - val_accuracy: 0.7007 - val_auc: 0.8052 - val_precision: 0.6694 - val_recall: 0.8004\n",
            "Epoch 18/200\n",
            "103/103 [==============================] - 12s 120ms/step - loss: 0.4476 - accuracy: 0.7017 - auc: 0.8046 - precision: 0.6722 - recall: 0.7850 - val_loss: 0.5206 - val_accuracy: 0.7033 - val_auc: 0.8046 - val_precision: 0.6819 - val_recall: 0.7689\n",
            "Epoch 19/200\n",
            "103/103 [==============================] - 12s 120ms/step - loss: 0.4468 - accuracy: 0.7039 - auc: 0.8057 - precision: 0.6752 - recall: 0.7834 - val_loss: 0.5183 - val_accuracy: 0.7071 - val_auc: 0.8067 - val_precision: 0.6823 - val_recall: 0.7816\n",
            "Epoch 20/200\n",
            "103/103 [==============================] - 12s 120ms/step - loss: 0.4442 - accuracy: 0.7051 - auc: 0.8075 - precision: 0.6762 - recall: 0.7847 - val_loss: 0.5172 - val_accuracy: 0.7055 - val_auc: 0.8072 - val_precision: 0.6793 - val_recall: 0.7851\n",
            "Epoch 21/200\n",
            "103/103 [==============================] - 12s 120ms/step - loss: 0.4417 - accuracy: 0.7065 - auc: 0.8101 - precision: 0.6767 - recall: 0.7884 - val_loss: 0.5150 - val_accuracy: 0.7060 - val_auc: 0.8086 - val_precision: 0.6809 - val_recall: 0.7821\n",
            "Epoch 22/200\n",
            "103/103 [==============================] - 12s 120ms/step - loss: 0.4407 - accuracy: 0.7073 - auc: 0.8109 - precision: 0.6771 - recall: 0.7902 - val_loss: 0.5174 - val_accuracy: 0.7022 - val_auc: 0.8102 - val_precision: 0.6690 - val_recall: 0.8076\n",
            "Epoch 23/200\n",
            "103/103 [==============================] - 12s 120ms/step - loss: 0.4385 - accuracy: 0.7108 - auc: 0.8131 - precision: 0.6824 - recall: 0.7866 - val_loss: 0.5143 - val_accuracy: 0.7042 - val_auc: 0.8109 - val_precision: 0.6730 - val_recall: 0.8013\n",
            "Epoch 24/200\n",
            "103/103 [==============================] - 12s 120ms/step - loss: 0.4376 - accuracy: 0.7095 - auc: 0.8132 - precision: 0.6801 - recall: 0.7889 - val_loss: 0.5111 - val_accuracy: 0.7117 - val_auc: 0.8133 - val_precision: 0.6889 - val_recall: 0.7784\n",
            "Epoch 25/200\n",
            "103/103 [==============================] - 12s 120ms/step - loss: 0.4365 - accuracy: 0.7116 - auc: 0.8148 - precision: 0.6835 - recall: 0.7858 - val_loss: 0.5086 - val_accuracy: 0.7134 - val_auc: 0.8130 - val_precision: 0.6992 - val_recall: 0.7550\n",
            "Epoch 26/200\n",
            "103/103 [==============================] - 12s 120ms/step - loss: 0.4341 - accuracy: 0.7136 - auc: 0.8168 - precision: 0.6863 - recall: 0.7847 - val_loss: 0.5106 - val_accuracy: 0.7078 - val_auc: 0.8142 - val_precision: 0.6778 - val_recall: 0.7988\n",
            "Epoch 27/200\n",
            "103/103 [==============================] - 12s 120ms/step - loss: 0.4331 - accuracy: 0.7130 - auc: 0.8177 - precision: 0.6833 - recall: 0.7918 - val_loss: 0.5077 - val_accuracy: 0.7067 - val_auc: 0.8158 - val_precision: 0.6750 - val_recall: 0.8042\n",
            "Epoch 28/200\n",
            "103/103 [==============================] - 12s 120ms/step - loss: 0.4320 - accuracy: 0.7146 - auc: 0.8190 - precision: 0.6848 - recall: 0.7927 - val_loss: 0.5062 - val_accuracy: 0.7118 - val_auc: 0.8152 - val_precision: 0.6896 - val_recall: 0.7767\n",
            "Epoch 29/200\n",
            "103/103 [==============================] - 12s 121ms/step - loss: 0.4305 - accuracy: 0.7165 - auc: 0.8194 - precision: 0.6895 - recall: 0.7856 - val_loss: 0.5071 - val_accuracy: 0.7130 - val_auc: 0.8157 - val_precision: 0.6894 - val_recall: 0.7815\n",
            "Epoch 30/200\n",
            "103/103 [==============================] - 12s 120ms/step - loss: 0.4295 - accuracy: 0.7164 - auc: 0.8210 - precision: 0.6889 - recall: 0.7872 - val_loss: 0.5039 - val_accuracy: 0.7139 - val_auc: 0.8174 - val_precision: 0.6887 - val_recall: 0.7870\n",
            "Epoch 31/200\n",
            "103/103 [==============================] - 12s 119ms/step - loss: 0.4289 - accuracy: 0.7154 - auc: 0.8207 - precision: 0.6871 - recall: 0.7888 - val_loss: 0.5035 - val_accuracy: 0.7137 - val_auc: 0.8175 - val_precision: 0.6913 - val_recall: 0.7785\n",
            "Epoch 32/200\n",
            "103/103 [==============================] - 12s 120ms/step - loss: 0.4288 - accuracy: 0.7155 - auc: 0.8213 - precision: 0.6869 - recall: 0.7896 - val_loss: 0.5045 - val_accuracy: 0.7116 - val_auc: 0.8179 - val_precision: 0.6869 - val_recall: 0.7841\n",
            "Epoch 33/200\n",
            "103/103 [==============================] - 12s 120ms/step - loss: 0.4271 - accuracy: 0.7182 - auc: 0.8225 - precision: 0.6910 - recall: 0.7873 - val_loss: 0.5030 - val_accuracy: 0.7136 - val_auc: 0.8195 - val_precision: 0.6877 - val_recall: 0.7888\n",
            "Epoch 34/200\n",
            "103/103 [==============================] - 12s 120ms/step - loss: 0.4258 - accuracy: 0.7181 - auc: 0.8234 - precision: 0.6911 - recall: 0.7866 - val_loss: 0.5032 - val_accuracy: 0.7128 - val_auc: 0.8183 - val_precision: 0.6884 - val_recall: 0.7840\n",
            "Epoch 35/200\n",
            "103/103 [==============================] - 12s 120ms/step - loss: 0.4246 - accuracy: 0.7183 - auc: 0.8248 - precision: 0.6895 - recall: 0.7922 - val_loss: 0.5018 - val_accuracy: 0.7156 - val_auc: 0.8197 - val_precision: 0.6900 - val_recall: 0.7893\n",
            "Epoch 36/200\n",
            "103/103 [==============================] - 12s 120ms/step - loss: 0.4248 - accuracy: 0.7198 - auc: 0.8244 - precision: 0.6928 - recall: 0.7874 - val_loss: 0.5015 - val_accuracy: 0.7142 - val_auc: 0.8200 - val_precision: 0.6885 - val_recall: 0.7888\n",
            "Epoch 37/200\n",
            "103/103 [==============================] - 12s 119ms/step - loss: 0.4236 - accuracy: 0.7190 - auc: 0.8246 - precision: 0.6905 - recall: 0.7915 - val_loss: 0.5019 - val_accuracy: 0.7117 - val_auc: 0.8210 - val_precision: 0.6793 - val_recall: 0.8087\n",
            "Epoch 38/200\n",
            "103/103 [==============================] - 12s 120ms/step - loss: 0.4228 - accuracy: 0.7195 - auc: 0.8259 - precision: 0.6897 - recall: 0.7962 - val_loss: 0.5010 - val_accuracy: 0.7130 - val_auc: 0.8217 - val_precision: 0.6814 - val_recall: 0.8065\n",
            "Epoch 39/200\n",
            "103/103 [==============================] - 12s 121ms/step - loss: 0.4221 - accuracy: 0.7215 - auc: 0.8271 - precision: 0.6933 - recall: 0.7923 - val_loss: 0.4983 - val_accuracy: 0.7177 - val_auc: 0.8213 - val_precision: 0.6963 - val_recall: 0.7782\n",
            "Epoch 40/200\n",
            "103/103 [==============================] - 12s 120ms/step - loss: 0.4215 - accuracy: 0.7235 - auc: 0.8275 - precision: 0.6976 - recall: 0.7872 - val_loss: 0.4989 - val_accuracy: 0.7169 - val_auc: 0.8234 - val_precision: 0.6890 - val_recall: 0.7968\n",
            "Epoch 41/200\n",
            "103/103 [==============================] - 12s 120ms/step - loss: 0.4205 - accuracy: 0.7230 - auc: 0.8278 - precision: 0.6962 - recall: 0.7892 - val_loss: 0.4968 - val_accuracy: 0.7177 - val_auc: 0.8226 - val_precision: 0.6951 - val_recall: 0.7816\n",
            "Epoch 42/200\n",
            "103/103 [==============================] - 12s 120ms/step - loss: 0.4201 - accuracy: 0.7225 - auc: 0.8283 - precision: 0.6952 - recall: 0.7904 - val_loss: 0.4974 - val_accuracy: 0.7208 - val_auc: 0.8224 - val_precision: 0.7021 - val_recall: 0.7730\n",
            "Epoch 43/200\n",
            "103/103 [==============================] - 12s 119ms/step - loss: 0.4188 - accuracy: 0.7240 - auc: 0.8295 - precision: 0.6954 - recall: 0.7950 - val_loss: 0.4969 - val_accuracy: 0.7179 - val_auc: 0.8239 - val_precision: 0.6894 - val_recall: 0.7992\n",
            "Epoch 44/200\n",
            "103/103 [==============================] - 12s 120ms/step - loss: 0.4194 - accuracy: 0.7232 - auc: 0.8292 - precision: 0.6953 - recall: 0.7923 - val_loss: 0.4974 - val_accuracy: 0.7159 - val_auc: 0.8238 - val_precision: 0.6865 - val_recall: 0.8008\n",
            "Epoch 45/200\n",
            "103/103 [==============================] - 12s 119ms/step - loss: 0.4175 - accuracy: 0.7248 - auc: 0.8309 - precision: 0.6964 - recall: 0.7951 - val_loss: 0.4967 - val_accuracy: 0.7178 - val_auc: 0.8236 - val_precision: 0.6911 - val_recall: 0.7935\n",
            "Epoch 46/200\n",
            "103/103 [==============================] - 12s 119ms/step - loss: 0.4183 - accuracy: 0.7238 - auc: 0.8303 - precision: 0.6961 - recall: 0.7922 - val_loss: 0.4959 - val_accuracy: 0.7199 - val_auc: 0.8231 - val_precision: 0.6972 - val_recall: 0.7834\n",
            "Epoch 47/200\n",
            "103/103 [==============================] - 12s 120ms/step - loss: 0.4168 - accuracy: 0.7260 - auc: 0.8307 - precision: 0.6998 - recall: 0.7898 - val_loss: 0.4964 - val_accuracy: 0.7180 - val_auc: 0.8242 - val_precision: 0.6915 - val_recall: 0.7935\n",
            "Epoch 48/200\n",
            "103/103 [==============================] - 12s 120ms/step - loss: 0.4164 - accuracy: 0.7257 - auc: 0.8315 - precision: 0.6984 - recall: 0.7926 - val_loss: 0.4947 - val_accuracy: 0.7204 - val_auc: 0.8252 - val_precision: 0.6957 - val_recall: 0.7894\n",
            "Epoch 49/200\n",
            "103/103 [==============================] - 12s 120ms/step - loss: 0.4170 - accuracy: 0.7265 - auc: 0.8310 - precision: 0.7005 - recall: 0.7892 - val_loss: 0.4965 - val_accuracy: 0.7183 - val_auc: 0.8245 - val_precision: 0.6921 - val_recall: 0.7925\n",
            "Epoch 50/200\n",
            "103/103 [==============================] - 12s 119ms/step - loss: 0.4158 - accuracy: 0.7249 - auc: 0.8313 - precision: 0.6981 - recall: 0.7906 - val_loss: 0.4955 - val_accuracy: 0.7197 - val_auc: 0.8250 - val_precision: 0.6958 - val_recall: 0.7868\n",
            "Epoch 51/200\n",
            "103/103 [==============================] - 12s 120ms/step - loss: 0.4141 - accuracy: 0.7284 - auc: 0.8335 - precision: 0.7020 - recall: 0.7918 - val_loss: 0.4952 - val_accuracy: 0.7182 - val_auc: 0.8254 - val_precision: 0.6922 - val_recall: 0.7917\n",
            "Epoch 52/200\n",
            "103/103 [==============================] - 12s 120ms/step - loss: 0.4152 - accuracy: 0.7259 - auc: 0.8316 - precision: 0.6994 - recall: 0.7904 - val_loss: 0.4956 - val_accuracy: 0.7195 - val_auc: 0.8246 - val_precision: 0.6983 - val_recall: 0.7790\n",
            "Epoch 53/200\n",
            "103/103 [==============================] - 12s 120ms/step - loss: 0.4146 - accuracy: 0.7271 - auc: 0.8327 - precision: 0.7009 - recall: 0.7905 - val_loss: 0.4962 - val_accuracy: 0.7203 - val_auc: 0.8244 - val_precision: 0.7001 - val_recall: 0.7767\n",
            "Epoch 54/200\n",
            "103/103 [==============================] - 12s 120ms/step - loss: 0.4147 - accuracy: 0.7273 - auc: 0.8325 - precision: 0.7013 - recall: 0.7901 - val_loss: 0.4961 - val_accuracy: 0.7217 - val_auc: 0.8245 - val_precision: 0.7010 - val_recall: 0.7789\n",
            "Epoch 55/200\n",
            "103/103 [==============================] - 12s 120ms/step - loss: 0.4137 - accuracy: 0.7281 - auc: 0.8340 - precision: 0.7019 - recall: 0.7908 - val_loss: 0.4952 - val_accuracy: 0.7176 - val_auc: 0.8257 - val_precision: 0.6907 - val_recall: 0.7942\n",
            "Epoch 56/200\n",
            "103/103 [==============================] - 12s 119ms/step - loss: 0.4140 - accuracy: 0.7280 - auc: 0.8333 - precision: 0.7028 - recall: 0.7882 - val_loss: 0.4961 - val_accuracy: 0.7217 - val_auc: 0.8252 - val_precision: 0.6986 - val_recall: 0.7859\n",
            "Epoch 57/200\n",
            "103/103 [==============================] - 12s 120ms/step - loss: 0.4136 - accuracy: 0.7287 - auc: 0.8339 - precision: 0.7025 - recall: 0.7916 - val_loss: 0.4936 - val_accuracy: 0.7206 - val_auc: 0.8265 - val_precision: 0.6941 - val_recall: 0.7948\n",
            "Epoch 58/200\n",
            "103/103 [==============================] - 12s 120ms/step - loss: 0.4122 - accuracy: 0.7287 - auc: 0.8347 - precision: 0.7033 - recall: 0.7893 - val_loss: 0.4923 - val_accuracy: 0.7204 - val_auc: 0.8267 - val_precision: 0.6955 - val_recall: 0.7900\n",
            "Epoch 59/200\n",
            "103/103 [==============================] - 12s 120ms/step - loss: 0.4120 - accuracy: 0.7297 - auc: 0.8345 - precision: 0.7055 - recall: 0.7867 - val_loss: 0.4936 - val_accuracy: 0.7199 - val_auc: 0.8266 - val_precision: 0.6951 - val_recall: 0.7896\n",
            "Epoch 60/200\n",
            "103/103 [==============================] - 12s 120ms/step - loss: 0.4120 - accuracy: 0.7308 - auc: 0.8350 - precision: 0.7056 - recall: 0.7902 - val_loss: 0.4928 - val_accuracy: 0.7224 - val_auc: 0.8268 - val_precision: 0.6991 - val_recall: 0.7869\n",
            "Epoch 61/200\n",
            "103/103 [==============================] - 12s 120ms/step - loss: 0.4114 - accuracy: 0.7298 - auc: 0.8353 - precision: 0.7042 - recall: 0.7906 - val_loss: 0.4954 - val_accuracy: 0.7210 - val_auc: 0.8265 - val_precision: 0.6959 - val_recall: 0.7909\n",
            "Epoch 62/200\n",
            "103/103 [==============================] - 12s 120ms/step - loss: 0.4115 - accuracy: 0.7315 - auc: 0.8359 - precision: 0.7052 - recall: 0.7936 - val_loss: 0.4946 - val_accuracy: 0.7251 - val_auc: 0.8258 - val_precision: 0.7063 - val_recall: 0.7763\n",
            "Epoch 63/200\n",
            "103/103 [==============================] - 12s 119ms/step - loss: 0.4107 - accuracy: 0.7313 - auc: 0.8359 - precision: 0.7061 - recall: 0.7904 - val_loss: 0.4925 - val_accuracy: 0.7194 - val_auc: 0.8269 - val_precision: 0.6923 - val_recall: 0.7960\n",
            "Epoch 64/200\n",
            "103/103 [==============================] - 12s 119ms/step - loss: 0.4114 - accuracy: 0.7295 - auc: 0.8353 - precision: 0.7032 - recall: 0.7922 - val_loss: 0.4926 - val_accuracy: 0.7234 - val_auc: 0.8273 - val_precision: 0.7029 - val_recall: 0.7796\n",
            "Epoch 65/200\n",
            "103/103 [==============================] - 12s 120ms/step - loss: 0.4097 - accuracy: 0.7331 - auc: 0.8373 - precision: 0.7079 - recall: 0.7918 - val_loss: 0.4910 - val_accuracy: 0.7245 - val_auc: 0.8272 - val_precision: 0.7089 - val_recall: 0.7674\n",
            "Epoch 66/200\n",
            "103/103 [==============================] - 12s 120ms/step - loss: 0.4096 - accuracy: 0.7310 - auc: 0.8364 - precision: 0.7076 - recall: 0.7853 - val_loss: 0.4935 - val_accuracy: 0.7206 - val_auc: 0.8276 - val_precision: 0.6930 - val_recall: 0.7979\n",
            "Epoch 67/200\n",
            "103/103 [==============================] - 12s 119ms/step - loss: 0.4098 - accuracy: 0.7323 - auc: 0.8370 - precision: 0.7086 - recall: 0.7872 - val_loss: 0.4930 - val_accuracy: 0.7207 - val_auc: 0.8278 - val_precision: 0.6942 - val_recall: 0.7951\n",
            "Epoch 68/200\n",
            "103/103 [==============================] - 12s 120ms/step - loss: 0.4086 - accuracy: 0.7331 - auc: 0.8376 - precision: 0.7080 - recall: 0.7916 - val_loss: 0.4915 - val_accuracy: 0.7216 - val_auc: 0.8276 - val_precision: 0.6983 - val_recall: 0.7864\n",
            "Epoch 69/200\n",
            "103/103 [==============================] - 12s 120ms/step - loss: 0.4086 - accuracy: 0.7313 - auc: 0.8375 - precision: 0.7058 - recall: 0.7915 - val_loss: 0.4918 - val_accuracy: 0.7243 - val_auc: 0.8277 - val_precision: 0.7045 - val_recall: 0.7784\n",
            "Epoch 70/200\n",
            "103/103 [==============================] - 12s 120ms/step - loss: 0.4074 - accuracy: 0.7321 - auc: 0.8379 - precision: 0.7073 - recall: 0.7899 - val_loss: 0.4932 - val_accuracy: 0.7218 - val_auc: 0.8270 - val_precision: 0.6987 - val_recall: 0.7860\n",
            "Epoch 71/200\n",
            "103/103 [==============================] - 12s 120ms/step - loss: 0.4091 - accuracy: 0.7320 - auc: 0.8374 - precision: 0.7067 - recall: 0.7914 - val_loss: 0.4921 - val_accuracy: 0.7218 - val_auc: 0.8276 - val_precision: 0.6989 - val_recall: 0.7850\n",
            "Epoch 72/200\n",
            "103/103 [==============================] - 12s 120ms/step - loss: 0.4077 - accuracy: 0.7322 - auc: 0.8380 - precision: 0.7071 - recall: 0.7909 - val_loss: 0.4930 - val_accuracy: 0.7211 - val_auc: 0.8280 - val_precision: 0.6964 - val_recall: 0.7897\n",
            "Epoch 73/200\n",
            "103/103 [==============================] - 12s 121ms/step - loss: 0.4084 - accuracy: 0.7313 - auc: 0.8370 - precision: 0.7057 - recall: 0.7917 - val_loss: 0.4918 - val_accuracy: 0.7245 - val_auc: 0.8276 - val_precision: 0.7053 - val_recall: 0.7767\n",
            "Epoch 74/200\n",
            "103/103 [==============================] - 12s 120ms/step - loss: 0.4075 - accuracy: 0.7336 - auc: 0.8382 - precision: 0.7095 - recall: 0.7893 - val_loss: 0.4928 - val_accuracy: 0.7192 - val_auc: 0.8284 - val_precision: 0.6927 - val_recall: 0.7938\n",
            "Epoch 75/200\n",
            "103/103 [==============================] - 12s 120ms/step - loss: 0.4063 - accuracy: 0.7335 - auc: 0.8394 - precision: 0.7081 - recall: 0.7928 - val_loss: 0.4919 - val_accuracy: 0.7248 - val_auc: 0.8279 - val_precision: 0.7062 - val_recall: 0.7755\n",
            "Epoch 76/200\n",
            "103/103 [==============================] - 12s 120ms/step - loss: 0.4080 - accuracy: 0.7338 - auc: 0.8384 - precision: 0.7098 - recall: 0.7892 - val_loss: 0.4906 - val_accuracy: 0.7239 - val_auc: 0.8282 - val_precision: 0.7027 - val_recall: 0.7818\n",
            "Epoch 77/200\n",
            "103/103 [==============================] - 12s 120ms/step - loss: 0.4065 - accuracy: 0.7335 - auc: 0.8388 - precision: 0.7081 - recall: 0.7928 - val_loss: 0.4902 - val_accuracy: 0.7227 - val_auc: 0.8287 - val_precision: 0.7006 - val_recall: 0.7837\n",
            "Epoch 78/200\n",
            "103/103 [==============================] - 13s 122ms/step - loss: 0.4068 - accuracy: 0.7333 - auc: 0.8388 - precision: 0.7081 - recall: 0.7920 - val_loss: 0.4910 - val_accuracy: 0.7230 - val_auc: 0.8282 - val_precision: 0.7023 - val_recall: 0.7800\n",
            "Epoch 79/200\n",
            "103/103 [==============================] - 12s 120ms/step - loss: 0.4065 - accuracy: 0.7322 - auc: 0.8389 - precision: 0.7086 - recall: 0.7867 - val_loss: 0.4902 - val_accuracy: 0.7260 - val_auc: 0.8286 - val_precision: 0.7068 - val_recall: 0.7780\n",
            "Epoch 80/200\n",
            "103/103 [==============================] - 12s 120ms/step - loss: 0.4058 - accuracy: 0.7348 - auc: 0.8396 - precision: 0.7107 - recall: 0.7901 - val_loss: 0.4898 - val_accuracy: 0.7259 - val_auc: 0.8297 - val_precision: 0.7046 - val_recall: 0.7834\n",
            "Epoch 81/200\n",
            "103/103 [==============================] - 12s 121ms/step - loss: 0.4056 - accuracy: 0.7352 - auc: 0.8398 - precision: 0.7121 - recall: 0.7880 - val_loss: 0.4915 - val_accuracy: 0.7243 - val_auc: 0.8285 - val_precision: 0.7037 - val_recall: 0.7806\n",
            "Epoch 82/200\n",
            "103/103 [==============================] - 12s 120ms/step - loss: 0.4051 - accuracy: 0.7353 - auc: 0.8401 - precision: 0.7111 - recall: 0.7909 - val_loss: 0.4904 - val_accuracy: 0.7242 - val_auc: 0.8293 - val_precision: 0.7021 - val_recall: 0.7846\n",
            "Epoch 83/200\n",
            "103/103 [==============================] - 12s 120ms/step - loss: 0.4058 - accuracy: 0.7340 - auc: 0.8394 - precision: 0.7101 - recall: 0.7891 - val_loss: 0.4903 - val_accuracy: 0.7260 - val_auc: 0.8291 - val_precision: 0.7053 - val_recall: 0.7822\n",
            "Epoch 84/200\n",
            "103/103 [==============================] - 12s 120ms/step - loss: 0.4056 - accuracy: 0.7347 - auc: 0.8398 - precision: 0.7114 - recall: 0.7879 - val_loss: 0.4901 - val_accuracy: 0.7266 - val_auc: 0.8296 - val_precision: 0.7073 - val_recall: 0.7788\n",
            "Epoch 85/200\n",
            "103/103 [==============================] - 12s 120ms/step - loss: 0.4058 - accuracy: 0.7354 - auc: 0.8399 - precision: 0.7124 - recall: 0.7876 - val_loss: 0.4902 - val_accuracy: 0.7251 - val_auc: 0.8299 - val_precision: 0.7031 - val_recall: 0.7849\n",
            "Epoch 86/200\n",
            "103/103 [==============================] - 12s 119ms/step - loss: 0.4048 - accuracy: 0.7356 - auc: 0.8406 - precision: 0.7115 - recall: 0.7907 - val_loss: 0.4902 - val_accuracy: 0.7247 - val_auc: 0.8296 - val_precision: 0.7043 - val_recall: 0.7802\n",
            "Epoch 87/200\n",
            "103/103 [==============================] - 12s 120ms/step - loss: 0.4049 - accuracy: 0.7346 - auc: 0.8398 - precision: 0.7122 - recall: 0.7853 - val_loss: 0.4898 - val_accuracy: 0.7243 - val_auc: 0.8294 - val_precision: 0.7017 - val_recall: 0.7859\n",
            "Epoch 88/200\n",
            "103/103 [==============================] - 12s 119ms/step - loss: 0.4046 - accuracy: 0.7339 - auc: 0.8405 - precision: 0.7103 - recall: 0.7883 - val_loss: 0.4890 - val_accuracy: 0.7261 - val_auc: 0.8298 - val_precision: 0.7064 - val_recall: 0.7794\n",
            "Epoch 89/200\n",
            "103/103 [==============================] - 12s 120ms/step - loss: 0.4040 - accuracy: 0.7361 - auc: 0.8414 - precision: 0.7131 - recall: 0.7883 - val_loss: 0.4892 - val_accuracy: 0.7263 - val_auc: 0.8292 - val_precision: 0.7107 - val_recall: 0.7687\n",
            "Epoch 90/200\n",
            "103/103 [==============================] - 12s 120ms/step - loss: 0.4050 - accuracy: 0.7351 - auc: 0.8398 - precision: 0.7119 - recall: 0.7880 - val_loss: 0.4910 - val_accuracy: 0.7244 - val_auc: 0.8288 - val_precision: 0.7031 - val_recall: 0.7826\n",
            "Epoch 91/200\n",
            "103/103 [==============================] - 12s 120ms/step - loss: 0.4043 - accuracy: 0.7345 - auc: 0.8405 - precision: 0.7101 - recall: 0.7906 - val_loss: 0.4887 - val_accuracy: 0.7265 - val_auc: 0.8296 - val_precision: 0.7065 - val_recall: 0.7803\n",
            "Epoch 92/200\n",
            "103/103 [==============================] - 12s 120ms/step - loss: 0.4029 - accuracy: 0.7360 - auc: 0.8415 - precision: 0.7132 - recall: 0.7876 - val_loss: 0.4889 - val_accuracy: 0.7260 - val_auc: 0.8297 - val_precision: 0.7072 - val_recall: 0.7771\n",
            "Epoch 93/200\n",
            "103/103 [==============================] - 12s 120ms/step - loss: 0.4034 - accuracy: 0.7362 - auc: 0.8416 - precision: 0.7132 - recall: 0.7883 - val_loss: 0.4893 - val_accuracy: 0.7270 - val_auc: 0.8296 - val_precision: 0.7094 - val_recall: 0.7746\n",
            "Epoch 94/200\n",
            "103/103 [==============================] - 12s 121ms/step - loss: 0.4036 - accuracy: 0.7365 - auc: 0.8412 - precision: 0.7128 - recall: 0.7900 - val_loss: 0.4880 - val_accuracy: 0.7271 - val_auc: 0.8304 - val_precision: 0.7090 - val_recall: 0.7759\n",
            "Epoch 95/200\n",
            "103/103 [==============================] - 12s 120ms/step - loss: 0.4041 - accuracy: 0.7353 - auc: 0.8409 - precision: 0.7116 - recall: 0.7896 - val_loss: 0.4902 - val_accuracy: 0.7246 - val_auc: 0.8298 - val_precision: 0.7019 - val_recall: 0.7868\n",
            "Epoch 96/200\n",
            "103/103 [==============================] - 12s 120ms/step - loss: 0.4029 - accuracy: 0.7359 - auc: 0.8417 - precision: 0.7118 - recall: 0.7909 - val_loss: 0.4892 - val_accuracy: 0.7266 - val_auc: 0.8302 - val_precision: 0.7073 - val_recall: 0.7788\n",
            "Epoch 97/200\n",
            "103/103 [==============================] - 12s 121ms/step - loss: 0.4029 - accuracy: 0.7373 - auc: 0.8421 - precision: 0.7146 - recall: 0.7885 - val_loss: 0.4889 - val_accuracy: 0.7259 - val_auc: 0.8303 - val_precision: 0.7056 - val_recall: 0.7807\n",
            "Epoch 98/200\n",
            "103/103 [==============================] - 12s 120ms/step - loss: 0.4032 - accuracy: 0.7351 - auc: 0.8416 - precision: 0.7109 - recall: 0.7905 - val_loss: 0.4895 - val_accuracy: 0.7226 - val_auc: 0.8293 - val_precision: 0.7007 - val_recall: 0.7830\n",
            "Epoch 99/200\n",
            "103/103 [==============================] - 12s 120ms/step - loss: 0.4031 - accuracy: 0.7375 - auc: 0.8418 - precision: 0.7146 - recall: 0.7892 - val_loss: 0.4884 - val_accuracy: 0.7244 - val_auc: 0.8307 - val_precision: 0.7015 - val_recall: 0.7869\n",
            "Epoch 100/200\n",
            "103/103 [==============================] - 12s 120ms/step - loss: 0.4020 - accuracy: 0.7370 - auc: 0.8422 - precision: 0.7132 - recall: 0.7909 - val_loss: 0.4898 - val_accuracy: 0.7278 - val_auc: 0.8293 - val_precision: 0.7127 - val_recall: 0.7689\n",
            "Epoch 101/200\n",
            "103/103 [==============================] - 12s 120ms/step - loss: 0.4027 - accuracy: 0.7357 - auc: 0.8418 - precision: 0.7122 - recall: 0.7892 - val_loss: 0.4888 - val_accuracy: 0.7247 - val_auc: 0.8296 - val_precision: 0.7039 - val_recall: 0.7817\n",
            "Epoch 102/200\n",
            "103/103 [==============================] - 12s 121ms/step - loss: 0.4021 - accuracy: 0.7372 - auc: 0.8423 - precision: 0.7130 - recall: 0.7921 - val_loss: 0.4891 - val_accuracy: 0.7241 - val_auc: 0.8301 - val_precision: 0.7025 - val_recall: 0.7834\n",
            "Epoch 103/200\n",
            "103/103 [==============================] - 12s 121ms/step - loss: 0.4032 - accuracy: 0.7366 - auc: 0.8415 - precision: 0.7133 - recall: 0.7894 - val_loss: 0.4897 - val_accuracy: 0.7252 - val_auc: 0.8308 - val_precision: 0.7043 - val_recall: 0.7819\n",
            "Epoch 104/200\n",
            "103/103 [==============================] - 12s 120ms/step - loss: 0.4013 - accuracy: 0.7370 - auc: 0.8426 - precision: 0.7131 - recall: 0.7911 - val_loss: 0.4899 - val_accuracy: 0.7262 - val_auc: 0.8300 - val_precision: 0.7091 - val_recall: 0.7724\n",
            "Epoch 105/200\n",
            "103/103 [==============================] - 12s 120ms/step - loss: 0.4014 - accuracy: 0.7371 - auc: 0.8426 - precision: 0.7149 - recall: 0.7871 - val_loss: 0.4903 - val_accuracy: 0.7249 - val_auc: 0.8300 - val_precision: 0.7035 - val_recall: 0.7831\n",
            "Epoch 106/200\n",
            "103/103 [==============================] - 12s 120ms/step - loss: 0.4010 - accuracy: 0.7378 - auc: 0.8429 - precision: 0.7146 - recall: 0.7898 - val_loss: 0.4894 - val_accuracy: 0.7269 - val_auc: 0.8303 - val_precision: 0.7081 - val_recall: 0.7777\n",
            "Epoch 107/200\n",
            "103/103 [==============================] - 12s 120ms/step - loss: 0.4019 - accuracy: 0.7368 - auc: 0.8417 - precision: 0.7148 - recall: 0.7862 - val_loss: 0.4878 - val_accuracy: 0.7256 - val_auc: 0.8315 - val_precision: 0.7014 - val_recall: 0.7914\n",
            "Epoch 108/200\n",
            "103/103 [==============================] - 12s 120ms/step - loss: 0.4014 - accuracy: 0.7376 - auc: 0.8427 - precision: 0.7142 - recall: 0.7904 - val_loss: 0.4902 - val_accuracy: 0.7268 - val_auc: 0.8300 - val_precision: 0.7093 - val_recall: 0.7743\n",
            "Epoch 109/200\n",
            "103/103 [==============================] - 12s 120ms/step - loss: 0.4007 - accuracy: 0.7369 - auc: 0.8427 - precision: 0.7145 - recall: 0.7874 - val_loss: 0.4894 - val_accuracy: 0.7259 - val_auc: 0.8305 - val_precision: 0.7067 - val_recall: 0.7782\n",
            "Epoch 110/200\n",
            "103/103 [==============================] - 12s 120ms/step - loss: 0.4017 - accuracy: 0.7378 - auc: 0.8429 - precision: 0.7146 - recall: 0.7899 - val_loss: 0.4888 - val_accuracy: 0.7291 - val_auc: 0.8303 - val_precision: 0.7173 - val_recall: 0.7618\n",
            "Epoch 111/200\n",
            "103/103 [==============================] - 12s 121ms/step - loss: 0.4016 - accuracy: 0.7367 - auc: 0.8423 - precision: 0.7151 - recall: 0.7851 - val_loss: 0.4882 - val_accuracy: 0.7277 - val_auc: 0.8307 - val_precision: 0.7098 - val_recall: 0.7760\n",
            "Epoch 112/200\n",
            "103/103 [==============================] - 12s 120ms/step - loss: 0.4011 - accuracy: 0.7371 - auc: 0.8429 - precision: 0.7131 - recall: 0.7917 - val_loss: 0.4888 - val_accuracy: 0.7279 - val_auc: 0.8307 - val_precision: 0.7110 - val_recall: 0.7732\n",
            "Epoch 113/200\n",
            "103/103 [==============================] - 12s 121ms/step - loss: 0.4012 - accuracy: 0.7366 - auc: 0.8424 - precision: 0.7152 - recall: 0.7847 - val_loss: 0.4880 - val_accuracy: 0.7261 - val_auc: 0.8312 - val_precision: 0.7042 - val_recall: 0.7852\n",
            "Epoch 114/200\n",
            "103/103 [==============================] - 12s 121ms/step - loss: 0.4008 - accuracy: 0.7369 - auc: 0.8434 - precision: 0.7123 - recall: 0.7929 - val_loss: 0.4903 - val_accuracy: 0.7250 - val_auc: 0.8310 - val_precision: 0.7011 - val_recall: 0.7902\n",
            "Epoch 115/200\n",
            "103/103 [==============================] - 12s 121ms/step - loss: 0.4002 - accuracy: 0.7369 - auc: 0.8431 - precision: 0.7137 - recall: 0.7892 - val_loss: 0.4892 - val_accuracy: 0.7245 - val_auc: 0.8312 - val_precision: 0.7028 - val_recall: 0.7836\n",
            "Epoch 116/200\n",
            "103/103 [==============================] - 12s 121ms/step - loss: 0.3999 - accuracy: 0.7374 - auc: 0.8435 - precision: 0.7134 - recall: 0.7918 - val_loss: 0.4883 - val_accuracy: 0.7279 - val_auc: 0.8304 - val_precision: 0.7115 - val_recall: 0.7723\n",
            "Epoch 117/200\n",
            "103/103 [==============================] - 13s 121ms/step - loss: 0.4000 - accuracy: 0.7378 - auc: 0.8439 - precision: 0.7133 - recall: 0.7934 - val_loss: 0.4886 - val_accuracy: 0.7269 - val_auc: 0.8309 - val_precision: 0.7092 - val_recall: 0.7748\n",
            "Epoch 118/200\n",
            "103/103 [==============================] - 12s 121ms/step - loss: 0.4003 - accuracy: 0.7385 - auc: 0.8433 - precision: 0.7166 - recall: 0.7874 - val_loss: 0.4882 - val_accuracy: 0.7264 - val_auc: 0.8310 - val_precision: 0.7064 - val_recall: 0.7803\n",
            "Epoch 119/200\n",
            "103/103 [==============================] - 13s 122ms/step - loss: 0.4004 - accuracy: 0.7381 - auc: 0.8433 - precision: 0.7149 - recall: 0.7904 - val_loss: 0.4890 - val_accuracy: 0.7261 - val_auc: 0.8307 - val_precision: 0.7043 - val_recall: 0.7851\n",
            "Epoch 120/200\n",
            "103/103 [==============================] - 13s 121ms/step - loss: 0.4006 - accuracy: 0.7366 - auc: 0.8428 - precision: 0.7137 - recall: 0.7884 - val_loss: 0.4887 - val_accuracy: 0.7273 - val_auc: 0.8307 - val_precision: 0.7094 - val_recall: 0.7756\n",
            "Epoch 121/200\n",
            "103/103 [==============================] - 13s 122ms/step - loss: 0.3991 - accuracy: 0.7397 - auc: 0.8445 - precision: 0.7173 - recall: 0.7895 - val_loss: 0.4882 - val_accuracy: 0.7254 - val_auc: 0.8308 - val_precision: 0.7044 - val_recall: 0.7825\n",
            "Epoch 122/200\n",
            "103/103 [==============================] - 13s 122ms/step - loss: 0.4003 - accuracy: 0.7375 - auc: 0.8436 - precision: 0.7137 - recall: 0.7914 - val_loss: 0.4885 - val_accuracy: 0.7265 - val_auc: 0.8310 - val_precision: 0.7068 - val_recall: 0.7797\n",
            "Epoch 123/200\n",
            "103/103 [==============================] - 12s 120ms/step - loss: 0.3990 - accuracy: 0.7384 - auc: 0.8445 - precision: 0.7148 - recall: 0.7914 - val_loss: 0.4897 - val_accuracy: 0.7263 - val_auc: 0.8310 - val_precision: 0.7060 - val_recall: 0.7812\n",
            "Epoch 124/200\n",
            "103/103 [==============================] - 12s 121ms/step - loss: 0.4002 - accuracy: 0.7375 - auc: 0.8433 - precision: 0.7137 - recall: 0.7916 - val_loss: 0.4889 - val_accuracy: 0.7282 - val_auc: 0.8312 - val_precision: 0.7100 - val_recall: 0.7771\n",
            "Epoch 125/200\n",
            "103/103 [==============================] - 12s 121ms/step - loss: 0.3996 - accuracy: 0.7385 - auc: 0.8441 - precision: 0.7160 - recall: 0.7889 - val_loss: 0.4885 - val_accuracy: 0.7266 - val_auc: 0.8315 - val_precision: 0.7080 - val_recall: 0.7769\n",
            "Epoch 126/200\n",
            "103/103 [==============================] - 12s 121ms/step - loss: 0.3993 - accuracy: 0.7400 - auc: 0.8443 - precision: 0.7176 - recall: 0.7898 - val_loss: 0.4873 - val_accuracy: 0.7281 - val_auc: 0.8317 - val_precision: 0.7094 - val_recall: 0.7781\n",
            "Epoch 127/200\n",
            "103/103 [==============================] - 13s 122ms/step - loss: 0.3996 - accuracy: 0.7397 - auc: 0.8439 - precision: 0.7175 - recall: 0.7890 - val_loss: 0.4886 - val_accuracy: 0.7263 - val_auc: 0.8317 - val_precision: 0.7064 - val_recall: 0.7802\n",
            "Epoch 128/200\n",
            "103/103 [==============================] - 12s 121ms/step - loss: 0.3987 - accuracy: 0.7390 - auc: 0.8447 - precision: 0.7162 - recall: 0.7900 - val_loss: 0.4890 - val_accuracy: 0.7274 - val_auc: 0.8310 - val_precision: 0.7111 - val_recall: 0.7714\n",
            "Epoch 129/200\n",
            "103/103 [==============================] - 12s 121ms/step - loss: 0.3989 - accuracy: 0.7388 - auc: 0.8445 - precision: 0.7164 - recall: 0.7888 - val_loss: 0.4886 - val_accuracy: 0.7282 - val_auc: 0.8321 - val_precision: 0.7106 - val_recall: 0.7756\n",
            "Epoch 130/200\n",
            "103/103 [==============================] - 12s 121ms/step - loss: 0.3987 - accuracy: 0.7392 - auc: 0.8443 - precision: 0.7164 - recall: 0.7901 - val_loss: 0.4893 - val_accuracy: 0.7268 - val_auc: 0.8311 - val_precision: 0.7087 - val_recall: 0.7756\n",
            "Epoch 131/200\n",
            "103/103 [==============================] - 12s 121ms/step - loss: 0.3985 - accuracy: 0.7398 - auc: 0.8448 - precision: 0.7169 - recall: 0.7907 - val_loss: 0.4899 - val_accuracy: 0.7262 - val_auc: 0.8316 - val_precision: 0.7060 - val_recall: 0.7810\n",
            "Epoch 132/200\n",
            "103/103 [==============================] - 12s 121ms/step - loss: 0.3988 - accuracy: 0.7396 - auc: 0.8445 - precision: 0.7182 - recall: 0.7869 - val_loss: 0.4896 - val_accuracy: 0.7249 - val_auc: 0.8311 - val_precision: 0.7031 - val_recall: 0.7842\n",
            "Epoch 133/200\n",
            "103/103 [==============================] - 12s 121ms/step - loss: 0.3984 - accuracy: 0.7383 - auc: 0.8446 - precision: 0.7152 - recall: 0.7902 - val_loss: 0.4892 - val_accuracy: 0.7246 - val_auc: 0.8315 - val_precision: 0.7002 - val_recall: 0.7913\n",
            "Epoch 134/200\n",
            "103/103 [==============================] - 12s 121ms/step - loss: 0.3992 - accuracy: 0.7388 - auc: 0.8442 - precision: 0.7152 - recall: 0.7919 - val_loss: 0.4878 - val_accuracy: 0.7263 - val_auc: 0.8319 - val_precision: 0.7073 - val_recall: 0.7778\n",
            "Epoch 135/200\n",
            "103/103 [==============================] - 12s 120ms/step - loss: 0.3984 - accuracy: 0.7403 - auc: 0.8452 - precision: 0.7182 - recall: 0.7891 - val_loss: 0.4883 - val_accuracy: 0.7266 - val_auc: 0.8316 - val_precision: 0.7077 - val_recall: 0.7778\n",
            "Epoch 136/200\n",
            "103/103 [==============================] - 12s 121ms/step - loss: 0.3985 - accuracy: 0.7389 - auc: 0.8446 - precision: 0.7171 - recall: 0.7874 - val_loss: 0.4884 - val_accuracy: 0.7272 - val_auc: 0.8312 - val_precision: 0.7083 - val_recall: 0.7781\n",
            "Epoch 137/200\n",
            "103/103 [==============================] - 12s 121ms/step - loss: 0.3976 - accuracy: 0.7399 - auc: 0.8453 - precision: 0.7184 - recall: 0.7873 - val_loss: 0.4883 - val_accuracy: 0.7289 - val_auc: 0.8311 - val_precision: 0.7123 - val_recall: 0.7735\n",
            "Epoch 138/200\n",
            "103/103 [==============================] - 12s 121ms/step - loss: 0.3981 - accuracy: 0.7385 - auc: 0.8448 - precision: 0.7150 - recall: 0.7914 - val_loss: 0.4863 - val_accuracy: 0.7250 - val_auc: 0.8319 - val_precision: 0.7047 - val_recall: 0.7803\n",
            "Epoch 139/200\n",
            "103/103 [==============================] - 12s 121ms/step - loss: 0.3981 - accuracy: 0.7403 - auc: 0.8454 - precision: 0.7174 - recall: 0.7913 - val_loss: 0.4878 - val_accuracy: 0.7271 - val_auc: 0.8316 - val_precision: 0.7100 - val_recall: 0.7735\n",
            "Epoch 140/200\n",
            "103/103 [==============================] - 12s 121ms/step - loss: 0.3978 - accuracy: 0.7400 - auc: 0.8452 - precision: 0.7173 - recall: 0.7903 - val_loss: 0.4890 - val_accuracy: 0.7267 - val_auc: 0.8311 - val_precision: 0.7090 - val_recall: 0.7745\n",
            "Epoch 141/200\n",
            "103/103 [==============================] - 12s 121ms/step - loss: 0.3980 - accuracy: 0.7392 - auc: 0.8449 - precision: 0.7164 - recall: 0.7898 - val_loss: 0.4882 - val_accuracy: 0.7243 - val_auc: 0.8319 - val_precision: 0.7026 - val_recall: 0.7835\n",
            "Epoch 142/200\n",
            "103/103 [==============================] - 12s 121ms/step - loss: 0.3970 - accuracy: 0.7403 - auc: 0.8458 - precision: 0.7177 - recall: 0.7905 - val_loss: 0.4876 - val_accuracy: 0.7264 - val_auc: 0.8318 - val_precision: 0.7088 - val_recall: 0.7741\n",
            "Epoch 143/200\n",
            "103/103 [==============================] - 12s 121ms/step - loss: 0.3977 - accuracy: 0.7402 - auc: 0.8455 - precision: 0.7185 - recall: 0.7881 - val_loss: 0.4893 - val_accuracy: 0.7272 - val_auc: 0.8314 - val_precision: 0.7082 - val_recall: 0.7786\n",
            "Epoch 144/200\n",
            "103/103 [==============================] - 12s 121ms/step - loss: 0.3973 - accuracy: 0.7383 - auc: 0.8456 - precision: 0.7147 - recall: 0.7915 - val_loss: 0.4886 - val_accuracy: 0.7265 - val_auc: 0.8316 - val_precision: 0.7091 - val_recall: 0.7739\n",
            "Epoch 145/200\n",
            "103/103 [==============================] - 12s 121ms/step - loss: 0.3981 - accuracy: 0.7404 - auc: 0.8451 - precision: 0.7193 - recall: 0.7868 - val_loss: 0.4860 - val_accuracy: 0.7274 - val_auc: 0.8326 - val_precision: 0.7095 - val_recall: 0.7757\n",
            "Epoch 146/200\n",
            "103/103 [==============================] - 12s 121ms/step - loss: 0.3970 - accuracy: 0.7411 - auc: 0.8460 - precision: 0.7197 - recall: 0.7879 - val_loss: 0.4882 - val_accuracy: 0.7275 - val_auc: 0.8324 - val_precision: 0.7080 - val_recall: 0.7798\n",
            "Epoch 147/200\n",
            "103/103 [==============================] - 12s 121ms/step - loss: 0.3977 - accuracy: 0.7401 - auc: 0.8453 - precision: 0.7174 - recall: 0.7905 - val_loss: 0.4881 - val_accuracy: 0.7253 - val_auc: 0.8314 - val_precision: 0.7052 - val_recall: 0.7801\n",
            "Epoch 148/200\n",
            "103/103 [==============================] - 12s 121ms/step - loss: 0.3973 - accuracy: 0.7406 - auc: 0.8455 - precision: 0.7190 - recall: 0.7882 - val_loss: 0.4886 - val_accuracy: 0.7258 - val_auc: 0.8315 - val_precision: 0.7056 - val_recall: 0.7804\n",
            "Epoch 149/200\n",
            "103/103 [==============================] - 12s 121ms/step - loss: 0.3972 - accuracy: 0.7412 - auc: 0.8459 - precision: 0.7194 - recall: 0.7890 - val_loss: 0.4887 - val_accuracy: 0.7267 - val_auc: 0.8314 - val_precision: 0.7073 - val_recall: 0.7791\n",
            "Epoch 150/200\n",
            "103/103 [==============================] - 12s 121ms/step - loss: 0.3976 - accuracy: 0.7394 - auc: 0.8450 - precision: 0.7181 - recall: 0.7866 - val_loss: 0.4870 - val_accuracy: 0.7300 - val_auc: 0.8317 - val_precision: 0.7168 - val_recall: 0.7660\n",
            "Epoch 151/200\n",
            "103/103 [==============================] - 13s 122ms/step - loss: 0.3961 - accuracy: 0.7404 - auc: 0.8460 - precision: 0.7189 - recall: 0.7877 - val_loss: 0.4883 - val_accuracy: 0.7305 - val_auc: 0.8315 - val_precision: 0.7206 - val_recall: 0.7582\n",
            "Epoch 152/200\n",
            "103/103 [==============================] - 12s 121ms/step - loss: 0.3975 - accuracy: 0.7412 - auc: 0.8456 - precision: 0.7214 - recall: 0.7843 - val_loss: 0.4893 - val_accuracy: 0.7274 - val_auc: 0.8316 - val_precision: 0.7083 - val_recall: 0.7788\n",
            "Epoch 153/200\n",
            "103/103 [==============================] - 13s 122ms/step - loss: 0.3969 - accuracy: 0.7396 - auc: 0.8453 - precision: 0.7177 - recall: 0.7880 - val_loss: 0.4878 - val_accuracy: 0.7270 - val_auc: 0.8317 - val_precision: 0.7064 - val_recall: 0.7823\n",
            "Epoch 154/200\n",
            "103/103 [==============================] - 12s 121ms/step - loss: 0.3977 - accuracy: 0.7401 - auc: 0.8451 - precision: 0.7179 - recall: 0.7892 - val_loss: 0.4891 - val_accuracy: 0.7256 - val_auc: 0.8316 - val_precision: 0.7040 - val_recall: 0.7842\n",
            "Epoch 155/200\n",
            "103/103 [==============================] - 12s 121ms/step - loss: 0.3975 - accuracy: 0.7392 - auc: 0.8451 - precision: 0.7172 - recall: 0.7882 - val_loss: 0.4881 - val_accuracy: 0.7289 - val_auc: 0.8316 - val_precision: 0.7104 - val_recall: 0.7786\n",
            "Epoch 156/200\n",
            "103/103 [==============================] - 12s 120ms/step - loss: 0.3970 - accuracy: 0.7415 - auc: 0.8458 - precision: 0.7191 - recall: 0.7907 - val_loss: 0.4877 - val_accuracy: 0.7265 - val_auc: 0.8323 - val_precision: 0.7040 - val_recall: 0.7873\n",
            "Epoch 157/200\n",
            "103/103 [==============================] - 12s 120ms/step - loss: 0.3979 - accuracy: 0.7406 - auc: 0.8450 - precision: 0.7197 - recall: 0.7862 - val_loss: 0.4877 - val_accuracy: 0.7273 - val_auc: 0.8316 - val_precision: 0.7083 - val_recall: 0.7785\n",
            "Epoch 158/200\n",
            "103/103 [==============================] - 12s 121ms/step - loss: 0.3965 - accuracy: 0.7412 - auc: 0.8460 - precision: 0.7202 - recall: 0.7873 - val_loss: 0.4880 - val_accuracy: 0.7292 - val_auc: 0.8319 - val_precision: 0.7100 - val_recall: 0.7805\n",
            "Epoch 159/200\n",
            "103/103 [==============================] - 13s 122ms/step - loss: 0.3960 - accuracy: 0.7411 - auc: 0.8465 - precision: 0.7195 - recall: 0.7886 - val_loss: 0.4876 - val_accuracy: 0.7291 - val_auc: 0.8324 - val_precision: 0.7100 - val_recall: 0.7798\n",
            "Epoch 160/200\n",
            "103/103 [==============================] - 13s 122ms/step - loss: 0.3972 - accuracy: 0.7401 - auc: 0.8454 - precision: 0.7186 - recall: 0.7874 - val_loss: 0.4873 - val_accuracy: 0.7280 - val_auc: 0.8321 - val_precision: 0.7102 - val_recall: 0.7760\n",
            "Epoch 161/200\n",
            "103/103 [==============================] - 13s 122ms/step - loss: 0.3954 - accuracy: 0.7410 - auc: 0.8468 - precision: 0.7201 - recall: 0.7868 - val_loss: 0.4874 - val_accuracy: 0.7279 - val_auc: 0.8317 - val_precision: 0.7094 - val_recall: 0.7774\n",
            "Epoch 162/200\n",
            "103/103 [==============================] - 17s 163ms/step - loss: 0.3969 - accuracy: 0.7412 - auc: 0.8459 - precision: 0.7199 - recall: 0.7877 - val_loss: 0.4889 - val_accuracy: 0.7283 - val_auc: 0.8317 - val_precision: 0.7118 - val_recall: 0.7727\n",
            "Epoch 163/200\n",
            "103/103 [==============================] - 13s 122ms/step - loss: 0.3968 - accuracy: 0.7404 - auc: 0.8459 - precision: 0.7177 - recall: 0.7906 - val_loss: 0.4879 - val_accuracy: 0.7295 - val_auc: 0.8324 - val_precision: 0.7152 - val_recall: 0.7682\n",
            "Epoch 164/200\n",
            "103/103 [==============================] - 13s 122ms/step - loss: 0.3956 - accuracy: 0.7421 - auc: 0.8472 - precision: 0.7211 - recall: 0.7879 - val_loss: 0.4885 - val_accuracy: 0.7266 - val_auc: 0.8317 - val_precision: 0.7065 - val_recall: 0.7807\n",
            "Epoch 165/200\n",
            "103/103 [==============================] - 13s 122ms/step - loss: 0.3965 - accuracy: 0.7409 - auc: 0.8463 - precision: 0.7195 - recall: 0.7876 - val_loss: 0.4877 - val_accuracy: 0.7273 - val_auc: 0.8320 - val_precision: 0.7098 - val_recall: 0.7744\n",
            "Epoch 166/200\n",
            "103/103 [==============================] - 13s 122ms/step - loss: 0.3964 - accuracy: 0.7415 - auc: 0.8463 - precision: 0.7207 - recall: 0.7867 - val_loss: 0.4880 - val_accuracy: 0.7271 - val_auc: 0.8317 - val_precision: 0.7080 - val_recall: 0.7784\n",
            "Epoch 167/200\n",
            "103/103 [==============================] - 13s 122ms/step - loss: 0.3957 - accuracy: 0.7424 - auc: 0.8469 - precision: 0.7218 - recall: 0.7870 - val_loss: 0.4874 - val_accuracy: 0.7282 - val_auc: 0.8318 - val_precision: 0.7105 - val_recall: 0.7758\n",
            "Epoch 168/200\n",
            "103/103 [==============================] - 13s 122ms/step - loss: 0.3959 - accuracy: 0.7406 - auc: 0.8463 - precision: 0.7187 - recall: 0.7890 - val_loss: 0.4883 - val_accuracy: 0.7258 - val_auc: 0.8319 - val_precision: 0.7040 - val_recall: 0.7851\n",
            "Epoch 169/200\n",
            "103/103 [==============================] - 13s 122ms/step - loss: 0.3959 - accuracy: 0.7416 - auc: 0.8468 - precision: 0.7197 - recall: 0.7897 - val_loss: 0.4885 - val_accuracy: 0.7250 - val_auc: 0.8320 - val_precision: 0.7019 - val_recall: 0.7878\n",
            "Epoch 170/200\n",
            "103/103 [==============================] - 12s 121ms/step - loss: 0.3967 - accuracy: 0.7412 - auc: 0.8465 - precision: 0.7185 - recall: 0.7914 - val_loss: 0.4883 - val_accuracy: 0.7266 - val_auc: 0.8323 - val_precision: 0.7067 - val_recall: 0.7805\n",
            "Epoch 171/200\n",
            "103/103 [==============================] - 13s 123ms/step - loss: 0.3953 - accuracy: 0.7423 - auc: 0.8472 - precision: 0.7209 - recall: 0.7891 - val_loss: 0.4871 - val_accuracy: 0.7267 - val_auc: 0.8319 - val_precision: 0.7095 - val_recall: 0.7733\n",
            "Epoch 172/200\n",
            "103/103 [==============================] - 13s 122ms/step - loss: 0.3959 - accuracy: 0.7424 - auc: 0.8466 - precision: 0.7211 - recall: 0.7886 - val_loss: 0.4883 - val_accuracy: 0.7283 - val_auc: 0.8321 - val_precision: 0.7135 - val_recall: 0.7685\n",
            "Epoch 173/200\n",
            "103/103 [==============================] - 12s 121ms/step - loss: 0.3951 - accuracy: 0.7425 - auc: 0.8472 - precision: 0.7222 - recall: 0.7866 - val_loss: 0.4873 - val_accuracy: 0.7271 - val_auc: 0.8330 - val_precision: 0.7081 - val_recall: 0.7782\n",
            "Epoch 174/200\n",
            "103/103 [==============================] - 13s 122ms/step - loss: 0.3960 - accuracy: 0.7423 - auc: 0.8468 - precision: 0.7209 - recall: 0.7890 - val_loss: 0.4884 - val_accuracy: 0.7267 - val_auc: 0.8319 - val_precision: 0.7070 - val_recall: 0.7800\n",
            "Epoch 175/200\n",
            "103/103 [==============================] - 13s 123ms/step - loss: 0.3958 - accuracy: 0.7420 - auc: 0.8470 - precision: 0.7201 - recall: 0.7901 - val_loss: 0.4882 - val_accuracy: 0.7279 - val_auc: 0.8317 - val_precision: 0.7135 - val_recall: 0.7669\n",
            "Epoch 176/200\n",
            "103/103 [==============================] - 12s 121ms/step - loss: 0.3964 - accuracy: 0.7427 - auc: 0.8464 - precision: 0.7220 - recall: 0.7878 - val_loss: 0.4877 - val_accuracy: 0.7287 - val_auc: 0.8323 - val_precision: 0.7110 - val_recall: 0.7760\n",
            "Epoch 177/200\n",
            "103/103 [==============================] - 12s 121ms/step - loss: 0.3948 - accuracy: 0.7412 - auc: 0.8468 - precision: 0.7201 - recall: 0.7872 - val_loss: 0.4887 - val_accuracy: 0.7261 - val_auc: 0.8319 - val_precision: 0.7068 - val_recall: 0.7785\n",
            "Epoch 178/200\n",
            "103/103 [==============================] - 12s 121ms/step - loss: 0.3949 - accuracy: 0.7429 - auc: 0.8474 - precision: 0.7210 - recall: 0.7908 - val_loss: 0.4876 - val_accuracy: 0.7284 - val_auc: 0.8321 - val_precision: 0.7121 - val_recall: 0.7723\n",
            "Epoch 179/200\n",
            "103/103 [==============================] - 13s 122ms/step - loss: 0.3957 - accuracy: 0.7409 - auc: 0.8462 - precision: 0.7201 - recall: 0.7862 - val_loss: 0.4882 - val_accuracy: 0.7277 - val_auc: 0.8322 - val_precision: 0.7071 - val_recall: 0.7830\n",
            "Epoch 180/200\n",
            "103/103 [==============================] - 12s 121ms/step - loss: 0.3952 - accuracy: 0.7427 - auc: 0.8471 - precision: 0.7227 - recall: 0.7860 - val_loss: 0.4890 - val_accuracy: 0.7275 - val_auc: 0.8320 - val_precision: 0.7081 - val_recall: 0.7795\n",
            "Epoch 181/200\n",
            "103/103 [==============================] - 13s 121ms/step - loss: 0.3948 - accuracy: 0.7433 - auc: 0.8476 - precision: 0.7207 - recall: 0.7926 - val_loss: 0.4878 - val_accuracy: 0.7282 - val_auc: 0.8323 - val_precision: 0.7119 - val_recall: 0.7721\n",
            "Epoch 182/200\n",
            "103/103 [==============================] - 13s 122ms/step - loss: 0.3951 - accuracy: 0.7428 - auc: 0.8474 - precision: 0.7228 - recall: 0.7860 - val_loss: 0.4889 - val_accuracy: 0.7256 - val_auc: 0.8320 - val_precision: 0.7049 - val_recall: 0.7817\n",
            "Epoch 183/200\n",
            "103/103 [==============================] - 13s 121ms/step - loss: 0.3954 - accuracy: 0.7403 - auc: 0.8467 - precision: 0.7171 - recall: 0.7919 - val_loss: 0.4891 - val_accuracy: 0.7266 - val_auc: 0.8322 - val_precision: 0.7080 - val_recall: 0.7768\n",
            "Epoch 184/200\n",
            "103/103 [==============================] - 13s 122ms/step - loss: 0.3952 - accuracy: 0.7433 - auc: 0.8472 - precision: 0.7232 - recall: 0.7867 - val_loss: 0.4897 - val_accuracy: 0.7253 - val_auc: 0.8317 - val_precision: 0.7048 - val_recall: 0.7810\n",
            "Epoch 185/200\n",
            "103/103 [==============================] - 13s 121ms/step - loss: 0.3950 - accuracy: 0.7441 - auc: 0.8476 - precision: 0.7206 - recall: 0.7954 - val_loss: 0.4883 - val_accuracy: 0.7273 - val_auc: 0.8324 - val_precision: 0.7082 - val_recall: 0.7788\n",
            "Epoch 186/200\n",
            "103/103 [==============================] - 13s 122ms/step - loss: 0.3947 - accuracy: 0.7408 - auc: 0.8471 - precision: 0.7200 - recall: 0.7864 - val_loss: 0.4896 - val_accuracy: 0.7275 - val_auc: 0.8317 - val_precision: 0.7111 - val_recall: 0.7718\n",
            "Epoch 187/200\n",
            "103/103 [==============================] - 13s 122ms/step - loss: 0.3942 - accuracy: 0.7425 - auc: 0.8476 - precision: 0.7211 - recall: 0.7891 - val_loss: 0.4892 - val_accuracy: 0.7264 - val_auc: 0.8319 - val_precision: 0.7077 - val_recall: 0.7770\n",
            "Epoch 188/200\n",
            "103/103 [==============================] - 12s 121ms/step - loss: 0.3950 - accuracy: 0.7420 - auc: 0.8474 - precision: 0.7206 - recall: 0.7889 - val_loss: 0.4902 - val_accuracy: 0.7268 - val_auc: 0.8316 - val_precision: 0.7114 - val_recall: 0.7688\n",
            "Epoch 189/200\n",
            "103/103 [==============================] - 13s 122ms/step - loss: 0.3948 - accuracy: 0.7424 - auc: 0.8473 - precision: 0.7204 - recall: 0.7904 - val_loss: 0.4897 - val_accuracy: 0.7268 - val_auc: 0.8321 - val_precision: 0.7086 - val_recall: 0.7761\n",
            "Epoch 190/200\n",
            "103/103 [==============================] - 13s 121ms/step - loss: 0.3950 - accuracy: 0.7416 - auc: 0.8468 - precision: 0.7193 - recall: 0.7907 - val_loss: 0.4892 - val_accuracy: 0.7267 - val_auc: 0.8319 - val_precision: 0.7080 - val_recall: 0.7772\n",
            "Epoch 191/200\n",
            "103/103 [==============================] - 12s 121ms/step - loss: 0.3952 - accuracy: 0.7415 - auc: 0.8468 - precision: 0.7198 - recall: 0.7890 - val_loss: 0.4896 - val_accuracy: 0.7266 - val_auc: 0.8314 - val_precision: 0.7087 - val_recall: 0.7748\n",
            "Epoch 192/200\n",
            "103/103 [==============================] - 13s 122ms/step - loss: 0.3943 - accuracy: 0.7422 - auc: 0.8475 - precision: 0.7206 - recall: 0.7894 - val_loss: 0.4901 - val_accuracy: 0.7261 - val_auc: 0.8319 - val_precision: 0.7054 - val_recall: 0.7821\n",
            "Epoch 193/200\n",
            "103/103 [==============================] - 12s 121ms/step - loss: 0.3944 - accuracy: 0.7432 - auc: 0.8476 - precision: 0.7211 - recall: 0.7913 - val_loss: 0.4888 - val_accuracy: 0.7272 - val_auc: 0.8324 - val_precision: 0.7066 - val_recall: 0.7826\n",
            "Epoch 194/200\n",
            "103/103 [==============================] - 13s 122ms/step - loss: 0.3952 - accuracy: 0.7425 - auc: 0.8474 - precision: 0.7196 - recall: 0.7929 - val_loss: 0.4907 - val_accuracy: 0.7273 - val_auc: 0.8314 - val_precision: 0.7079 - val_recall: 0.7794\n",
            "Epoch 195/200\n",
            "103/103 [==============================] - 13s 122ms/step - loss: 0.3938 - accuracy: 0.7426 - auc: 0.8479 - precision: 0.7207 - recall: 0.7905 - val_loss: 0.4882 - val_accuracy: 0.7291 - val_auc: 0.8321 - val_precision: 0.7136 - val_recall: 0.7708\n",
            "Epoch 196/200\n",
            "103/103 [==============================] - 12s 121ms/step - loss: 0.3947 - accuracy: 0.7428 - auc: 0.8473 - precision: 0.7213 - recall: 0.7897 - val_loss: 0.4909 - val_accuracy: 0.7291 - val_auc: 0.8318 - val_precision: 0.7127 - val_recall: 0.7732\n",
            "Epoch 197/200\n",
            "103/103 [==============================] - 12s 121ms/step - loss: 0.3946 - accuracy: 0.7425 - auc: 0.8476 - precision: 0.7202 - recall: 0.7916 - val_loss: 0.4892 - val_accuracy: 0.7272 - val_auc: 0.8323 - val_precision: 0.7074 - val_recall: 0.7805\n",
            "Epoch 198/200\n",
            "103/103 [==============================] - 12s 121ms/step - loss: 0.3944 - accuracy: 0.7428 - auc: 0.8473 - precision: 0.7223 - recall: 0.7872 - val_loss: 0.4882 - val_accuracy: 0.7264 - val_auc: 0.8325 - val_precision: 0.7064 - val_recall: 0.7806\n",
            "Epoch 199/200\n",
            "103/103 [==============================] - 13s 124ms/step - loss: 0.3944 - accuracy: 0.7443 - auc: 0.8481 - precision: 0.7240 - recall: 0.7878 - val_loss: 0.4877 - val_accuracy: 0.7291 - val_auc: 0.8325 - val_precision: 0.7133 - val_recall: 0.7715\n",
            "Epoch 200/200\n",
            "103/103 [==============================] - 13s 123ms/step - loss: 0.3943 - accuracy: 0.7431 - auc: 0.8474 - precision: 0.7229 - recall: 0.7866 - val_loss: 0.4900 - val_accuracy: 0.7268 - val_auc: 0.8325 - val_precision: 0.7057 - val_recall: 0.7835\n"
          ],
          "name": "stdout"
        }
      ]
    },
    {
      "cell_type": "code",
      "metadata": {
        "id": "yRo_codARMjn",
        "outputId": "d535d7c7-84b7-4e37-ae5e-d9591c2f717c",
        "colab": {
          "base_uri": "https://localhost:8080/"
        }
      },
      "source": [
        "print('training evaluation:', model.evaluate(train_data))\n",
        "print('test evaluation:', model.evaluate(test_data))"
      ],
      "execution_count": 73,
      "outputs": [
        {
          "output_type": "stream",
          "text": [
            "103/103 [==============================] - 4s 39ms/step - loss: 0.4470 - accuracy: 0.7503 - auc: 0.8596 - precision: 0.7223 - recall: 0.8115\n",
            "training evaluation: [0.44696369767189026, 0.7503145933151245, 0.8595598936080933, 0.7223479151725769, 0.8114992380142212]\n",
            "35/35 [==============================] - 1s 40ms/step - loss: 0.4975 - accuracy: 0.7258 - auc: 0.8291 - precision: 0.7023 - recall: 0.7841\n",
            "test evaluation: [0.4975067973136902, 0.7258244156837463, 0.8290910124778748, 0.7023358345031738, 0.7841129899024963]\n"
          ],
          "name": "stdout"
        }
      ]
    },
    {
      "cell_type": "code",
      "metadata": {
        "id": "4fkCdIQuqRxt",
        "outputId": "6012fcf8-b857-40d3-8aed-8a76f2225cc4",
        "colab": {
          "base_uri": "https://localhost:8080/"
        }
      },
      "source": [
        "model.save('drive/My Drive/ffn/model.tfm')"
      ],
      "execution_count": 74,
      "outputs": [
        {
          "output_type": "stream",
          "text": [
            "WARNING:tensorflow:Layers in a Sequential model should only have a single input tensor, but we receive a <class 'dict'> input: {'created_date': <tf.Tensor 'created_date:0' shape=(None, 1) dtype=string>, 'location_in_query': <tf.Tensor 'location_in_query:0' shape=(None, 1) dtype=string>, 'platform': <tf.Tensor 'platform:0' shape=(None, 1) dtype=string>, 'campaign_state': <tf.Tensor 'campaign_state:0' shape=(None, 1) dtype=string>, 'in_city': <tf.Tensor 'in_city:0' shape=(None, 1) dtype=int64>, 'is_prime': <tf.Tensor 'is_prime:0' shape=(None, 1) dtype=int64>, 'is_hardship': <tf.Tensor 'is_hardship:0' shape=(None, 1) dtype=int64>, 'category_debt_type': <tf.Tensor 'category_debt_type:0' shape=(None, 1) dtype=string>, 'time_index': <tf.Tensor 'time_index:0' shape=(None, 1) dtype=float64>}\n",
            "Consider rewriting this model with the Functional API.\n",
            "WARNING:tensorflow:Layers in a Sequential model should only have a single input tensor, but we receive a <class 'dict'> input: {'created_date': <tf.Tensor 'created_date:0' shape=(None, 1) dtype=string>, 'location_in_query': <tf.Tensor 'location_in_query:0' shape=(None, 1) dtype=string>, 'platform': <tf.Tensor 'platform:0' shape=(None, 1) dtype=string>, 'campaign_state': <tf.Tensor 'campaign_state:0' shape=(None, 1) dtype=string>, 'in_city': <tf.Tensor 'in_city:0' shape=(None, 1) dtype=int64>, 'is_prime': <tf.Tensor 'is_prime:0' shape=(None, 1) dtype=int64>, 'is_hardship': <tf.Tensor 'is_hardship:0' shape=(None, 1) dtype=int64>, 'category_debt_type': <tf.Tensor 'category_debt_type:0' shape=(None, 1) dtype=string>, 'time_index': <tf.Tensor 'time_index:0' shape=(None, 1) dtype=float64>}\n",
            "Consider rewriting this model with the Functional API.\n",
            "WARNING:tensorflow:Layers in a Sequential model should only have a single input tensor, but we receive a <class 'dict'> input: {'created_date': <tf.Tensor 'created_date:0' shape=(None, 1) dtype=string>, 'location_in_query': <tf.Tensor 'location_in_query:0' shape=(None, 1) dtype=string>, 'platform': <tf.Tensor 'platform:0' shape=(None, 1) dtype=string>, 'campaign_state': <tf.Tensor 'campaign_state:0' shape=(None, 1) dtype=string>, 'in_city': <tf.Tensor 'in_city:0' shape=(None, 1) dtype=int64>, 'is_prime': <tf.Tensor 'is_prime:0' shape=(None, 1) dtype=int64>, 'is_hardship': <tf.Tensor 'is_hardship:0' shape=(None, 1) dtype=int64>, 'category_debt_type': <tf.Tensor 'category_debt_type:0' shape=(None, 1) dtype=string>, 'time_index': <tf.Tensor 'time_index:0' shape=(None, 1) dtype=float64>}\n",
            "Consider rewriting this model with the Functional API.\n",
            "WARNING:tensorflow:Layers in a Sequential model should only have a single input tensor, but we receive a <class 'dict'> input: {'created_date': <tf.Tensor 'inputs_2:0' shape=(None, 1) dtype=string>, 'location_in_query': <tf.Tensor 'inputs_6:0' shape=(None, 1) dtype=string>, 'platform': <tf.Tensor 'inputs_7:0' shape=(None, 1) dtype=string>, 'campaign_state': <tf.Tensor 'inputs:0' shape=(None, 1) dtype=string>, 'in_city': <tf.Tensor 'inputs_3:0' shape=(None, 1) dtype=int64>, 'is_prime': <tf.Tensor 'inputs_5:0' shape=(None, 1) dtype=int64>, 'is_hardship': <tf.Tensor 'inputs_4:0' shape=(None, 1) dtype=int64>, 'category_debt_type': <tf.Tensor 'inputs_1:0' shape=(None, 1) dtype=string>, 'time_index': <tf.Tensor 'inputs_8:0' shape=(None, 1) dtype=float64>}\n",
            "Consider rewriting this model with the Functional API.\n",
            "WARNING:tensorflow:Layers in a Sequential model should only have a single input tensor, but we receive a <class 'dict'> input: {'created_date': <tf.Tensor 'inputs_2:0' shape=(None, 1) dtype=string>, 'location_in_query': <tf.Tensor 'inputs_6:0' shape=(None, 1) dtype=string>, 'platform': <tf.Tensor 'inputs_7:0' shape=(None, 1) dtype=string>, 'campaign_state': <tf.Tensor 'inputs:0' shape=(None, 1) dtype=string>, 'in_city': <tf.Tensor 'inputs_3:0' shape=(None, 1) dtype=int64>, 'is_prime': <tf.Tensor 'inputs_5:0' shape=(None, 1) dtype=int64>, 'is_hardship': <tf.Tensor 'inputs_4:0' shape=(None, 1) dtype=int64>, 'category_debt_type': <tf.Tensor 'inputs_1:0' shape=(None, 1) dtype=string>, 'time_index': <tf.Tensor 'inputs_8:0' shape=(None, 1) dtype=float64>}\n",
            "Consider rewriting this model with the Functional API.\n",
            "WARNING:tensorflow:Layers in a Sequential model should only have a single input tensor, but we receive a <class 'dict'> input: {'created_date': <tf.Tensor 'inputs/created_date:0' shape=(None, 1) dtype=string>, 'location_in_query': <tf.Tensor 'inputs/location_in_query:0' shape=(None, 1) dtype=string>, 'platform': <tf.Tensor 'inputs/platform:0' shape=(None, 1) dtype=string>, 'campaign_state': <tf.Tensor 'inputs/campaign_state:0' shape=(None, 1) dtype=string>, 'in_city': <tf.Tensor 'inputs/in_city:0' shape=(None, 1) dtype=int64>, 'is_prime': <tf.Tensor 'inputs/is_prime:0' shape=(None, 1) dtype=int64>, 'is_hardship': <tf.Tensor 'inputs/is_hardship:0' shape=(None, 1) dtype=int64>, 'category_debt_type': <tf.Tensor 'inputs/category_debt_type:0' shape=(None, 1) dtype=string>, 'time_index': <tf.Tensor 'inputs/time_index:0' shape=(None, 1) dtype=float64>}\n",
            "Consider rewriting this model with the Functional API.\n",
            "WARNING:tensorflow:Layers in a Sequential model should only have a single input tensor, but we receive a <class 'dict'> input: {'created_date': <tf.Tensor 'inputs/created_date:0' shape=(None, 1) dtype=string>, 'location_in_query': <tf.Tensor 'inputs/location_in_query:0' shape=(None, 1) dtype=string>, 'platform': <tf.Tensor 'inputs/platform:0' shape=(None, 1) dtype=string>, 'campaign_state': <tf.Tensor 'inputs/campaign_state:0' shape=(None, 1) dtype=string>, 'in_city': <tf.Tensor 'inputs/in_city:0' shape=(None, 1) dtype=int64>, 'is_prime': <tf.Tensor 'inputs/is_prime:0' shape=(None, 1) dtype=int64>, 'is_hardship': <tf.Tensor 'inputs/is_hardship:0' shape=(None, 1) dtype=int64>, 'category_debt_type': <tf.Tensor 'inputs/category_debt_type:0' shape=(None, 1) dtype=string>, 'time_index': <tf.Tensor 'inputs/time_index:0' shape=(None, 1) dtype=float64>}\n",
            "Consider rewriting this model with the Functional API.\n",
            "INFO:tensorflow:Assets written to: drive/My Drive/ffn/model.tfm/assets\n"
          ],
          "name": "stdout"
        }
      ]
    },
    {
      "cell_type": "markdown",
      "metadata": {
        "id": "1SBYG3Hv-cYp"
      },
      "source": [
        "## Model performance evaluation\n"
      ]
    },
    {
      "cell_type": "code",
      "metadata": {
        "id": "ssWPNe7O9fdB",
        "outputId": "c7448015-7599-448c-edf3-faa1a413f4bd",
        "colab": {
          "base_uri": "https://localhost:8080/",
          "height": 513
        }
      },
      "source": [
        "# load plotting modules\n",
        "import matplotlib\n",
        "import matplotlib.pyplot as plt\n",
        "\n",
        "# setting fonts for axes\n",
        "matplotlib.rcParams['figure.figsize'] = [24, 8] # width and height of figures\n",
        "\n",
        "font = {'family' : 'DejaVu Sans', # font\n",
        "        'weight' : 'bold',\n",
        "        'size'   : 16}\n",
        "matplotlib.rc('font', **font)\n",
        "\n",
        "colors = plt.rcParams['axes.prop_cycle'].by_key()['color']\n",
        "\n",
        "for n, metric in enumerate(metrics_names[0:3]):\n",
        "    name = metric.replace(\"_\",\" \").upper()\n",
        "    plt.subplot(1,3,n+1)\n",
        "    plt.plot(history.epoch,  history.history[metric], color=colors[0], label='train')\n",
        "    plt.plot(history.epoch, history.history['val_'+metric], color=colors[1], linestyle=\"-\", label='valid')\n",
        "    plt.xlabel('epoch')\n",
        "    plt.ylabel(name)\n",
        "    plt.ylim([0.4,0.85])\n",
        "    if metric == 'recall': plt.legend()"
      ],
      "execution_count": 75,
      "outputs": [
        {
          "output_type": "display_data",
          "data": {
            "image/png": "[encoded data removed]",
            "text/plain": [
              "<Figure size 1728x576 with 3 Axes>"
            ]
          },
          "metadata": {
            "tags": [],
            "needs_background": "light"
          }
        }
      ]
    }
  ]
}